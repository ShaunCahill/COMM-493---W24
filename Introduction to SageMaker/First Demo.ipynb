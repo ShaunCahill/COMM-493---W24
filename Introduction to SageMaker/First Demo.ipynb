{
 "cells": [
  {
   "cell_type": "markdown",
   "id": "cf059e80-598c-4b81-9dbc-57297c487aa3",
   "metadata": {},
   "source": [
    "![](COMM_493_Banner.png)\n",
    "\n",
    "# This is a Jupyter Notebook\n",
    "\n",
    "This is where you will develop the \"Business\" part of your assignments.\n",
    "\n",
    "You can create…\n",
    "\n",
    "\n",
    "**Headings**\n",
    "\n",
    "# Heading 1\n",
    "\n",
    "## Header 2\n",
    "\n",
    "### Heading 3\n",
    "\n",
    "\n",
    "**Lists**\n",
    "\n",
    "1. One\n",
    "2. Two\n",
    "3. Three\n",
    "\n",
    "\n",
    "[Markdown Cheatsheet](https://github.com/adam-p/markdown-here/wiki/Markdown-Cheatsheet)"
   ]
  },
  {
   "cell_type": "code",
   "execution_count": null,
   "id": "26ac78d1-9e5b-4a34-8e89-da316387102f",
   "metadata": {},
   "outputs": [],
   "source": [
    "# You can also run code\n",
    "print(\"Hello World\")"
   ]
  },
  {
   "cell_type": "markdown",
   "id": "58afe7a5-5961-4753-bda8-460acaf52d42",
   "metadata": {},
   "source": [
    "# We will be using the folowing libraries throughout this course"
   ]
  },
  {
   "cell_type": "markdown",
   "id": "feb3ab4e-9f3b-4d5b-adcb-6762c72080aa",
   "metadata": {},
   "source": [
    "![](NumPy.png)\n",
    "\n",
    "NumPy can be used to perform a wide variety of mathematical operations on arrays. It adds powerful data structures to Python that guarantee efficient calculations with arrays and matrices and it supplies an enormous library of high-level mathematical functions that operate on these arrays and matrices.\n",
    "\n",
    "**Why use NumPy**\n",
    "\n",
    "NumPy arrays are faster and more compact than Python lists. An array consumes less memory and is convenient to use. NumPy uses much less memory to store data and it provides a mechanism of specifying the data types. This allows the code to be optimized even further.\n",
    "\n",
    "[NumPy Documentation](https://numpy.org/devdocs/index.html)"
   ]
  },
  {
   "cell_type": "code",
   "execution_count": null,
   "id": "a1734931-c933-466d-a2b0-dfbeb911d037",
   "metadata": {},
   "outputs": [],
   "source": [
    "# Python Array\n",
    "a = [1,2,3,4,5]\n",
    "print(a);"
   ]
  },
  {
   "cell_type": "code",
   "execution_count": null,
   "id": "09774297-84c1-4dd2-b3e2-d5567a95c2b6",
   "metadata": {},
   "outputs": [],
   "source": [
    "import numpy as np\n",
    "\n",
    "b = np.array([1,2,3,4,5])\n",
    "print(b);"
   ]
  },
  {
   "cell_type": "markdown",
   "id": "cd5e0587-5eea-4184-821f-de98a765b7c2",
   "metadata": {},
   "source": [
    "Not that exciting is it?  It will be when we start dealing with larger datasets."
   ]
  },
  {
   "cell_type": "markdown",
   "id": "f8984e27-c1ee-4289-8506-4be219d62e94",
   "metadata": {},
   "source": [
    "![](matplotlib_logo.png)\n",
    "\n",
    "# Matplotlib: Visualization with Python\n",
    "\n",
    "Matplotlib is a comprehensive library for creating static, animated, and interactive visualizations in Python. Matplotlib makes easy things easy and hard things possible.\n",
    "\n",
    "* Create publication quality plots.\n",
    "* Make interactive figures that can zoom, pan, update.\n",
    "* Customize visual style and layout.\n",
    "* Export to many file formats.\n",
    "* Embed in JupyterLab and Graphical User Interfaces.\n",
    "* Use a rich array of third-party packages built on Matplotlib.\n",
    "\n",
    "[matplotlib Documentation](https://matplotlib.org/stable/index.html)"
   ]
  },
  {
   "cell_type": "code",
   "execution_count": null,
   "id": "5f3dff43-28d2-49c9-88f6-5c1f8c8ebc9c",
   "metadata": {},
   "outputs": [],
   "source": [
    "import matplotlib.pyplot as plt\n",
    "\n",
    "plt.plot([1, 2, 3, 4])\n",
    "plt.ylabel('some numbers')\n",
    "plt.show()"
   ]
  },
  {
   "cell_type": "code",
   "execution_count": null,
   "id": "e42bc899-1c26-4833-a432-11114454bc83",
   "metadata": {},
   "outputs": [],
   "source": [
    "plt.plot([1, 2, 3, 4], [1, 4, 9, 16])\n",
    "plt.ylabel('Y Axis Numbers')\n",
    "plt.xlabel('X Axis Numbers')\n",
    "plt.show();"
   ]
  },
  {
   "cell_type": "code",
   "execution_count": null,
   "id": "6a31eb69-2ead-4d3f-8a6f-d1d55105e1c6",
   "metadata": {},
   "outputs": [],
   "source": [
    "names = ['group_a', 'group_b', 'group_c']\n",
    "values = [1, 10, 100]\n",
    "\n",
    "plt.figure(figsize=(9, 3))\n",
    "\n",
    "plt.subplot(131)\n",
    "plt.bar(names, values)\n",
    "plt.subplot(132)\n",
    "plt.scatter(names, values)\n",
    "plt.subplot(133)\n",
    "plt.plot(names, values)\n",
    "plt.suptitle('Categorical Plotting')\n",
    "plt.show()"
   ]
  },
  {
   "cell_type": "markdown",
   "id": "cd184d22-f4f8-4614-b403-7086fdda0c65",
   "metadata": {},
   "source": [
    "![](Seaborn.png)\n",
    "\n",
    "# Seaborn: Fancy visualization with Python\n",
    "\n",
    "Seaborn is a Python data visualization library based on matplotlib. It provides a high-level interface for drawing attractive and informative statistical graphics.\n",
    "\n",
    "[Seaborn Documentation](https://seaborn.pydata.org/tutorial.html)"
   ]
  },
  {
   "cell_type": "code",
   "execution_count": null,
   "id": "79e01721-6fea-4efc-b51e-edc1d5bbaa24",
   "metadata": {},
   "outputs": [],
   "source": [
    "# Import seaborn\n",
    "import seaborn as sns\n",
    "\n",
    "# Apply the default theme\n",
    "sns.set_theme()\n",
    "\n",
    "# Load an example dataset\n",
    "tips = sns.load_dataset(\"tips\")\n",
    "\n",
    "# Create a visualization\n",
    "sns.relplot(\n",
    "    data=tips,\n",
    "    x=\"total_bill\", y=\"tip\", col=\"time\",\n",
    "    hue=\"smoker\", style=\"smoker\", size=\"size\",\n",
    ")"
   ]
  },
  {
   "cell_type": "code",
   "execution_count": null,
   "id": "b437d0ba-8412-4ecf-b43e-aa5ac7bc64fb",
   "metadata": {},
   "outputs": [],
   "source": [
    "dots = sns.load_dataset(\"dots\")\n",
    "sns.relplot(\n",
    "    data=dots, kind=\"line\",\n",
    "    x=\"time\", y=\"firing_rate\", col=\"align\",\n",
    "    hue=\"choice\", size=\"coherence\", style=\"choice\",\n",
    "    facet_kws=dict(sharex=False),\n",
    ")"
   ]
  },
  {
   "cell_type": "markdown",
   "id": "de3cabd6-a815-4806-8c83-f6e3c37d5110",
   "metadata": {},
   "source": [
    "![](Pandas_logo.png)\n",
    "\n",
    "# Matplotlib: Visualization with Python\n",
    "\n",
    "**pandas** is a fast, powerful, flexible and easy to use open source data analysis and manipulation tool,\n",
    "built on top of the Python programming language.\n",
    "\n",
    "[Pandas Documentation](https://pandas.pydata.org/docs/user_guide/index.html)"
   ]
  },
  {
   "cell_type": "code",
   "execution_count": null,
   "id": "5e9def8e-967f-478c-84c7-217354112d0a",
   "metadata": {},
   "outputs": [],
   "source": [
    "# Remember numpy?\n",
    "In [1]: import numpy as np\n",
    "In [2]: import pandas as pd"
   ]
  },
  {
   "cell_type": "markdown",
   "id": "f5d715c3-d778-444a-8996-cb0ddc579646",
   "metadata": {},
   "source": [
    "## Object creation\n",
    "\n",
    "Creating a Series by passing a list of values, letting pandas create a default integer index:"
   ]
  },
  {
   "cell_type": "code",
   "execution_count": null,
   "id": "36304e42-3dd8-4aa9-bb20-014f8533f183",
   "metadata": {},
   "outputs": [],
   "source": [
    "s = pd.Series([1, 3, 5, np.nan, 6, 8])\n",
    "\n",
    "print(s)"
   ]
  },
  {
   "cell_type": "markdown",
   "id": "37226dec-2703-4379-981d-930f54ab0854",
   "metadata": {},
   "source": [
    "**Creating a DataFrame by passing a NumPy array, with a datetime index using date_range() and labeled columns:**"
   ]
  },
  {
   "cell_type": "code",
   "execution_count": null,
   "id": "496399d4-15f7-4c00-9cf1-74ff711c3f17",
   "metadata": {},
   "outputs": [],
   "source": [
    "dates = pd.date_range(\"20130101\", periods=6)\n",
    "\n",
    "print(\"These are the dates\")\n",
    "print(\"===================\")\n",
    "print(dates)\n",
    "\n",
    "df = pd.DataFrame(np.random.randn(6, 4), index=dates, columns=list(\"ABCD\"))\n",
    "\n",
    "print(\"\")\n",
    "print(\"This is the DataFrame\")\n",
    "print(\"=====================\")\n",
    "print(df)"
   ]
  },
  {
   "cell_type": "markdown",
   "id": "bbc28a0c-48b8-4cb6-9f6e-54f1df1eca7c",
   "metadata": {},
   "source": [
    "**Creating a DataFrame by passing a dictionary of objects that can be converted into a series-like structure:**"
   ]
  },
  {
   "cell_type": "code",
   "execution_count": null,
   "id": "705fa908-224f-40a1-8252-2a7a1fc43bd8",
   "metadata": {},
   "outputs": [],
   "source": [
    "df2 = pd.DataFrame(\n",
    "    {\n",
    "        \"A\": 1.0,\n",
    "        \"B\": pd.Timestamp(\"20130102\"),\n",
    "        \"C\": pd.Series(1, index=list(range(4)), dtype=\"float32\"),\n",
    "        \"D\": np.array([3] * 4, dtype=\"int32\"),\n",
    "        \"E\": pd.Categorical([\"test\", \"train\", \"test\", \"train\"]),\n",
    "        \"F\": \"foo\",\n",
    "    }\n",
    ")\n",
    "\n",
    "\n",
    "print(df2)"
   ]
  },
  {
   "cell_type": "markdown",
   "id": "c757bce9-7405-4c3e-aa0a-a8d489f2c9d1",
   "metadata": {},
   "source": [
    "**The columns of the resulting DataFrame have different dtypes:**"
   ]
  },
  {
   "cell_type": "code",
   "execution_count": null,
   "id": "81c59557-6cba-4b58-80f4-cfcd15d72848",
   "metadata": {},
   "outputs": [],
   "source": [
    "df2.dtypes"
   ]
  },
  {
   "cell_type": "markdown",
   "id": "bb3a2b30-f528-4896-828d-e24285b87937",
   "metadata": {},
   "source": [
    "## Viewing data\n",
    "\n",
    "Use DataFrame.head() and DataFrame.tail() to view the top and bottom rows of the frame respectively:"
   ]
  },
  {
   "cell_type": "code",
   "execution_count": null,
   "id": "90cbc82f-5d2a-4689-b59a-1d8609f8f79f",
   "metadata": {},
   "outputs": [],
   "source": [
    "df.head()\n"
   ]
  },
  {
   "cell_type": "code",
   "execution_count": null,
   "id": "8888370c-b981-4b98-8ad6-9b36222ec354",
   "metadata": {},
   "outputs": [],
   "source": [
    "df.tail(3)"
   ]
  },
  {
   "cell_type": "markdown",
   "id": "00ffd1d4-a3c4-478a-b48f-a712bd9bbe09",
   "metadata": {},
   "source": [
    "![](scikit-learn_logo.png)\n",
    "\n",
    "# scikit-learn: Machine Learnign Libraries and More\n",
    "\n",
    "Simple and efficient tools for predictive data analysis\n",
    "Accessible to everybody, and reusable in various contexts\n",
    "\n",
    "[scikit-learn Documentation](https://scikit-learn.org/stable/user_guide.html)"
   ]
  },
  {
   "cell_type": "code",
   "execution_count": null,
   "id": "dccd5c09-4bbb-46f7-b3bc-d5f654b08fcc",
   "metadata": {},
   "outputs": [],
   "source": [
    "# Import the packages needed\n",
    "\n",
    "import numpy as np\n",
    "import pandas as pd\n",
    "import matplotlib.pyplot as plt\n",
    "import seaborn as sns"
   ]
  },
  {
   "cell_type": "code",
   "execution_count": null,
   "id": "04a22cfd-5ad7-470b-a3a3-a9cf7222df1c",
   "metadata": {},
   "outputs": [],
   "source": [
    "# Load the dataset into a DataFrame\n",
    "\n",
    "data=pd.read_csv('diabetes2.csv')"
   ]
  },
  {
   "cell_type": "code",
   "execution_count": null,
   "id": "b91ab574-57c7-4420-8b18-2a8a087090bc",
   "metadata": {},
   "outputs": [],
   "source": [
    "# Let's take a look at the data\n",
    "\n",
    "data.head()"
   ]
  },
  {
   "cell_type": "code",
   "execution_count": null,
   "id": "426f9343-5741-4118-afc1-027352940bc2",
   "metadata": {},
   "outputs": [],
   "source": [
    "# Now let's look at the info of the dataset\n",
    "\n",
    "data.info()"
   ]
  },
  {
   "cell_type": "code",
   "execution_count": null,
   "id": "adbc78f8-3f38-423b-b58c-4194801bd82e",
   "metadata": {},
   "outputs": [],
   "source": [
    "# Describe will allow us to get more insights into the data\n",
    "\n",
    "data.describe()"
   ]
  },
  {
   "cell_type": "code",
   "execution_count": null,
   "id": "43e53ada-22a5-45c7-a159-298114ed7400",
   "metadata": {},
   "outputs": [],
   "source": [
    "# Lets take a look at the correlations\n",
    "\n",
    "data.corr()"
   ]
  },
  {
   "cell_type": "code",
   "execution_count": null,
   "id": "aa2c1947-ac5a-433f-b70b-871e282355be",
   "metadata": {},
   "outputs": [],
   "source": [
    "# Matplot Heatmap\n",
    "\n",
    "fig, ax = plt.subplots(figsize=(9,9))\n",
    "im = ax.imshow(data.corr(), interpolation='nearest')\n",
    "fig.colorbar(im, orientation='vertical')"
   ]
  },
  {
   "cell_type": "code",
   "execution_count": null,
   "id": "50b18811-0bb0-47de-84d7-7e78c2da146c",
   "metadata": {},
   "outputs": [],
   "source": [
    "# Seaborn Heatmap\n",
    "\n",
    "f,ax = plt.subplots(figsize=(8,6))\n",
    "sns.heatmap(data.corr(), cmap=\"GnBu\", annot=True, linewidths=0.5, fmt= '.1f',ax=ax)\n",
    "plt.show()"
   ]
  },
  {
   "cell_type": "code",
   "execution_count": null,
   "id": "da841d13-633f-4fbb-ad10-012e56a9a5aa",
   "metadata": {},
   "outputs": [],
   "source": [
    "# Lets sort the correlations\n",
    "\n",
    "data.corr().Outcome.sort_values()"
   ]
  },
  {
   "cell_type": "code",
   "execution_count": null,
   "id": "a05b8bc3-6d9d-4974-be90-73227b2bba1d",
   "metadata": {},
   "outputs": [],
   "source": [
    "# Drop the target variable\n",
    "\n",
    "y = data.loc[:,\"Outcome\"].values\n",
    "x = data.drop(['Outcome'], axis = 1)\n"
   ]
  },
  {
   "cell_type": "code",
   "execution_count": null,
   "id": "94c69f04-13cd-4b58-86bd-cef6d4f9cb5a",
   "metadata": {},
   "outputs": [],
   "source": [
    "# Split the data into testing and training\n",
    "\n",
    "from sklearn.model_selection import train_test_split\n",
    "x_train, x_test, y_train, y_test = train_test_split(x, y, test_size = 0.33, random_state = 123)"
   ]
  },
  {
   "cell_type": "code",
   "execution_count": null,
   "id": "84f04e39-0079-4c7d-8d62-e5cf9b73a340",
   "metadata": {},
   "outputs": [],
   "source": [
    "# Create linear regression object\n",
    "\n",
    "from sklearn import linear_model\n",
    "logreg = linear_model.LogisticRegression(max_iter=150)"
   ]
  },
  {
   "cell_type": "code",
   "execution_count": null,
   "id": "5914d375-d15c-4465-9f0f-ba8b5dff68fd",
   "metadata": {},
   "outputs": [],
   "source": [
    "# Train the model using the training sets\n",
    "\n",
    "logreg.fit(x_train,y_train)"
   ]
  },
  {
   "cell_type": "code",
   "execution_count": null,
   "id": "f2f03114-a1e1-46cd-bd70-89cb170e7c35",
   "metadata": {},
   "outputs": [],
   "source": [
    "# Make predictions using the testing set\n",
    "\n",
    "predicted = logreg.predict(x_test)"
   ]
  },
  {
   "cell_type": "code",
   "execution_count": null,
   "id": "fb1cbccf-c073-419c-87ed-74f4112a67e7",
   "metadata": {},
   "outputs": [],
   "source": [
    "# Show the accuracy of the model\n",
    "\n",
    "print(\"Test accuracy: {} \".format(logreg.score(x_test, y_test)))"
   ]
  },
  {
   "cell_type": "code",
   "execution_count": null,
   "id": "500d55be-eb75-48a3-854f-f47aa8b09ce7",
   "metadata": {},
   "outputs": [],
   "source": [
    "# Create a confusion Matrix to identify TP, FP, FN, TN\n",
    "\n",
    "from sklearn.metrics import confusion_matrix\n",
    "cf_matrix = confusion_matrix(y_test,predicted)\n",
    "cf_matrix"
   ]
  },
  {
   "cell_type": "code",
   "execution_count": null,
   "id": "71705caa-6cc7-4273-8138-08a668e44675",
   "metadata": {},
   "outputs": [],
   "source": [
    "# Create a heatmap of the Confusion Matrix\n",
    "\n",
    "sns.heatmap(cf_matrix/np.sum(cf_matrix), annot=True, \n",
    "            fmt='.2%', cmap='Blues')\n",
    "plt.show()"
   ]
  },
  {
   "cell_type": "markdown",
   "id": "f7f5f826-6b21-4f11-9983-0811f4be83c8",
   "metadata": {},
   "source": [
    "![](Confusion_Matrix.png)"
   ]
  },
  {
   "cell_type": "code",
   "execution_count": null,
   "id": "df58dd7c-8967-480c-a96e-575f51a13473",
   "metadata": {},
   "outputs": [],
   "source": [
    "# Create yoru own DataFrame and run spcific predicitons\n",
    "\n",
    "column_names=[\"Pregnancies\", \"Glucose\", \"BloodPressure\", \"SkinThickness\", \"Insulin\", \"BMI\", \"DiabetesPedigreeFunction\", \"Age\"]\n",
    "test_prediction_array = [ [6, 148, 72, 35, 0, 33.6, 0.627, 50],\n",
    "                          [1, 85, 66, 29, 0, 26.6, 0.351, 31] ]\n",
    "test_prediciton_df = pd.DataFrame(test_prediction_array, columns=column_names)\n",
    "\n",
    "test_prediciton_df"
   ]
  },
  {
   "cell_type": "code",
   "execution_count": null,
   "id": "20242904-0bd8-4add-90a6-be8c5e3b1d6e",
   "metadata": {},
   "outputs": [],
   "source": [
    "# Predict\n",
    "logreg.predict(test_prediciton_df)"
   ]
  }
 ],
 "metadata": {
  "kernelspec": {
   "display_name": "conda_python3",
   "language": "python",
   "name": "conda_python3"
  },
  "language_info": {
   "codemirror_mode": {
    "name": "ipython",
    "version": 3
   },
   "file_extension": ".py",
   "mimetype": "text/x-python",
   "name": "python",
   "nbconvert_exporter": "python",
   "pygments_lexer": "ipython3",
   "version": "3.10.6"
  }
 },
 "nbformat": 4,
 "nbformat_minor": 5
}

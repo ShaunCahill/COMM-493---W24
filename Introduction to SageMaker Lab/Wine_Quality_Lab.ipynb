{
 "cells": [
  {
   "cell_type": "markdown",
   "id": "d1dcb6e8-a71e-4c1e-ae20-d422c3ebacc2",
   "metadata": {},
   "source": [
    "STEP 1\n",
    "\n",
    "Read about the a famous Wine Quality Dataset stored at UCI\n",
    "\n",
    "[Wine Quality Data Set](https://archive.ics.uci.edu/ml/datasets/Wine+Quality)\n",
    "\n",
    "Think about the following quesitons\n",
    "\n",
    "What is the Target Variable and what is it meant to predict?\n",
    "\n",
    "These datasets can be viewed as classification or regression tasks, what does that mean? \n"
   ]
  },
  {
   "cell_type": "markdown",
   "id": "a4974b4f-b791-4d53-8420-6547eec5d93a",
   "metadata": {},
   "source": [
    "STEP 2\n",
    "\n",
    "Download the Red Wine dataset and store it in the file section of your Jutype Lab"
   ]
  },
  {
   "cell_type": "markdown",
   "id": "47a4bcc0-f79b-4d0a-8dd1-62947c241822",
   "metadata": {},
   "source": [
    "STEP 3 \n",
    "\n",
    "Describe how a business can use this dataset and a linear regression model. Try incorporating images, lists and tables.\n",
    "\n",
    "[Markdown Cheatsheet](https://github.com/adam-p/markdown-here/wiki/Markdown-Cheatsheet)"
   ]
  },
  {
   "cell_type": "markdown",
   "id": "35cc3b21-c79d-4074-ad0f-ec1f132c740b",
   "metadata": {},
   "source": [
    "STEP 3 - Load and Explore the Data\n",
    "\n",
    "* 3.1 Load the Wine dataset into a Pandas DataFrame (HINT: the file is not comma delimited but it is delimited by a ; you can change the delimiter or have pandas accept it)\n",
    "* 3.2 Show the Head and Tail of the Dataframe\n",
    "* 3.3 Provide information about the dataset\n",
    "* 3.4 Create a correlation Matrix and an accompanying Heat Map\n",
    "* 3.5 Using the heat map find three strong corelations and plot them using a scatter plot \n",
    "* (BONUS 1: Use Matplotlib and Seaborn) \n",
    "* (BONUS 2: Include a best fit line)\n"
   ]
  },
  {
   "cell_type": "markdown",
   "id": "fb81d1a5-15cf-475f-aba5-7abedd966d96",
   "metadata": {},
   "source": [
    "STEP 4 - Build and train the Linear Regression Model\n",
    "\n",
    "* 4.1 Split the data by putting the target column in an array and dropping the target column in the DataFrame\n",
    "* 4.2 Split the data into Testing and Training\n",
    "* 4.3 Setup the Sklearn Linear Regression \n",
    "* 4.4 Train the model using the training dataset\n",
    "* 4.5 Test the modle using the testing dataset\n",
    "* 4.6 Comment on the acuracy of the model\n",
    "* 4.7 Create a confusion matrix\n",
    "* 4.8 Make a prediciton"
   ]
  }
 ],
 "metadata": {
  "kernelspec": {
   "display_name": "conda_python3",
   "language": "python",
   "name": "conda_python3"
  },
  "language_info": {
   "codemirror_mode": {
    "name": "ipython",
    "version": 3
   },
   "file_extension": ".py",
   "mimetype": "text/x-python",
   "name": "python",
   "nbconvert_exporter": "python",
   "pygments_lexer": "ipython3",
   "version": "3.10.6"
  }
 },
 "nbformat": 4,
 "nbformat_minor": 5
}

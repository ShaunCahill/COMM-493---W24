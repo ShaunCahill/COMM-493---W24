{
 "cells": [
  {
   "cell_type": "markdown",
   "id": "4517e025-6a12-4119-9ac6-ea6e37bbc89a",
   "metadata": {},
   "source": [
    "# Environment Setup and Imports"
   ]
  },
  {
   "cell_type": "code",
   "execution_count": 5,
   "id": "cbfa7d5d-63f0-4434-afa3-be0630171bbc",
   "metadata": {
    "tags": []
   },
   "outputs": [
    {
     "name": "stdout",
     "output_type": "stream",
     "text": [
      "Requirement already satisfied: numexpr in /home/ec2-user/anaconda3/envs/python3/lib/python3.10/site-packages (2.9.0)\n",
      "Requirement already satisfied: numpy>=1.13.3 in /home/ec2-user/anaconda3/envs/python3/lib/python3.10/site-packages (from numexpr) (1.22.4)\n"
     ]
    }
   ],
   "source": [
    "# Install or upgrade the numexpr package, which is used by pandas for efficient numerical expressions\n",
    "!pip install --upgrade numexpr\n",
    "\n",
    "# Import necessary libraries from SageMaker for model training and deployment\n",
    "import sagemaker\n",
    "from sagemaker import get_execution_role  # Get the IAM role for the SageMaker session\n",
    "from sagemaker.image_uris import retrieve  # Retrieve the Docker image URI for a specific model\n",
    "from sagemaker.estimator import Estimator  # Estimator class for model training\n",
    "\n",
    "# Import boto3 library for interacting with AWS services\n",
    "import boto3\n",
    "from botocore.exceptions import ClientError\n",
    "\n",
    "# Import pandas for data manipulation and analysis\n",
    "import pandas as pd\n",
    "\n",
    "# Import json for working with JSON data\n",
    "import json\n",
    "\n",
    "# Import matplotlib.pyplot for creating visualizations\n",
    "import matplotlib.pyplot as plt\n",
    "\n",
    "# Import seaborn for statistical data visualization\n",
    "import seaborn as sns"
   ]
  },
  {
   "cell_type": "markdown",
   "id": "b62e1c61-7924-49cc-b530-53315b458fc9",
   "metadata": {},
   "source": [
    "# Data Exploration"
   ]
  },
  {
   "cell_type": "code",
   "execution_count": 6,
   "id": "321d5940-26ca-4c48-a7e7-66207596538f",
   "metadata": {
    "tags": []
   },
   "outputs": [
    {
     "name": "stdout",
     "output_type": "stream",
     "text": [
      "First few rows of the DataFrame:\n",
      "  Invoice StockCode                          Description  Quantity  \\\n",
      "0  489434     85048  15CM CHRISTMAS GLASS BALL 20 LIGHTS        12   \n",
      "1  489434    79323P                   PINK CHERRY LIGHTS        12   \n",
      "2  489434    79323W                  WHITE CHERRY LIGHTS        12   \n",
      "3  489434     22041         RECORD FRAME 7\" SINGLE SIZE         48   \n",
      "4  489434     21232       STRAWBERRY CERAMIC TRINKET BOX        24   \n",
      "\n",
      "      InvoiceDate  Price  Customer ID         Country  \n",
      "0  12/1/2009 7:45   6.95      13085.0  United Kingdom  \n",
      "1  12/1/2009 7:45   6.75      13085.0  United Kingdom  \n",
      "2  12/1/2009 7:45   6.75      13085.0  United Kingdom  \n",
      "3  12/1/2009 7:45   2.10      13085.0  United Kingdom  \n",
      "4  12/1/2009 7:45   1.25      13085.0  United Kingdom  \n"
     ]
    }
   ],
   "source": [
    "# Load the OnlineRetail.csv data into a pandas DataFrame\n",
    "df_onlineretail = pd.read_csv('OnlineRetail.csv')\n",
    "\n",
    "# Display the first few rows of the df_onlineretail DataFrame\n",
    "print(\"First few rows of the DataFrame:\")\n",
    "print(df_onlineretail.head())"
   ]
  },
  {
   "cell_type": "code",
   "execution_count": 7,
   "id": "1a2037cd-5324-447e-96e1-9cf97562645b",
   "metadata": {
    "tags": []
   },
   "outputs": [
    {
     "name": "stdout",
     "output_type": "stream",
     "text": [
      "\n",
      "Shape of the DataFrame (rows, columns):\n",
      "(1067371, 8)\n"
     ]
    }
   ],
   "source": [
    "# Display the number of rows and columns in the df_onlineretail DataFrame\n",
    "print(\"\\nShape of the DataFrame (rows, columns):\")\n",
    "print(df_onlineretail.shape)"
   ]
  },
  {
   "cell_type": "code",
   "execution_count": 8,
   "id": "e9a4e3e6-6f47-4174-b082-c58514231534",
   "metadata": {
    "tags": []
   },
   "outputs": [
    {
     "name": "stdout",
     "output_type": "stream",
     "text": [
      "First few rows of the DataFrame:\n",
      "   Quantity     InvoiceDate  Price\n",
      "0        12  12/1/2009 7:45   6.95\n",
      "1        12  12/1/2009 7:45   6.75\n",
      "2        12  12/1/2009 7:45   6.75\n",
      "3        48  12/1/2009 7:45   2.10\n",
      "4        24  12/1/2009 7:45   1.25\n"
     ]
    }
   ],
   "source": [
    "# Drop the specified columns from df_onlineretail\n",
    "columns_to_drop = ['Invoice', 'StockCode', 'Description', 'Customer ID', 'Country']\n",
    "df_onlineretail.drop(columns=columns_to_drop, inplace=True)\n",
    "\n",
    "# Display the first few rows of the df_onlineretail DataFrame\n",
    "print(\"First few rows of the DataFrame:\")\n",
    "print(df_onlineretail.head())"
   ]
  },
  {
   "cell_type": "code",
   "execution_count": 9,
   "id": "e4ea625b-b962-43bf-b745-67b37c069c9b",
   "metadata": {
    "tags": []
   },
   "outputs": [
    {
     "name": "stdout",
     "output_type": "stream",
     "text": [
      "\n",
      "Summary of the DataFrame:\n",
      "<class 'pandas.core.frame.DataFrame'>\n",
      "RangeIndex: 1067371 entries, 0 to 1067370\n",
      "Data columns (total 3 columns):\n",
      " #   Column       Non-Null Count    Dtype  \n",
      "---  ------       --------------    -----  \n",
      " 0   Quantity     1067371 non-null  int64  \n",
      " 1   InvoiceDate  1067371 non-null  object \n",
      " 2   Price        1067371 non-null  float64\n",
      "dtypes: float64(1), int64(1), object(1)\n",
      "memory usage: 24.4+ MB\n",
      "None\n"
     ]
    }
   ],
   "source": [
    "# Display a concise summary of the df_onlineretail DataFrame\n",
    "print(\"\\nSummary of the DataFrame:\")\n",
    "print(df_onlineretail.info())"
   ]
  },
  {
   "cell_type": "code",
   "execution_count": 10,
   "id": "0f4558a8-262c-4c04-8d57-a32944dce853",
   "metadata": {
    "tags": []
   },
   "outputs": [
    {
     "name": "stdout",
     "output_type": "stream",
     "text": [
      "\n",
      "Summary of the DataFrame after converting InvoiceDate to datetime:\n",
      "<class 'pandas.core.frame.DataFrame'>\n",
      "RangeIndex: 1067371 entries, 0 to 1067370\n",
      "Data columns (total 3 columns):\n",
      " #   Column       Non-Null Count    Dtype         \n",
      "---  ------       --------------    -----         \n",
      " 0   Quantity     1067371 non-null  int64         \n",
      " 1   InvoiceDate  1067371 non-null  datetime64[ns]\n",
      " 2   Price        1067371 non-null  float64       \n",
      "dtypes: datetime64[ns](1), float64(1), int64(1)\n",
      "memory usage: 24.4 MB\n",
      "None\n"
     ]
    }
   ],
   "source": [
    "# Convert the 'InvoiceDate' column to datetime format\n",
    "df_onlineretail['InvoiceDate'] = pd.to_datetime(df_onlineretail['InvoiceDate'], format='%m/%d/%Y %H:%M')\n",
    "\n",
    "# Display a concise summary of the df_onlineretail DataFrame to verify the datetime format\n",
    "print(\"\\nSummary of the DataFrame after converting InvoiceDate to datetime:\")\n",
    "print(df_onlineretail.info())"
   ]
  },
  {
   "cell_type": "code",
   "execution_count": 11,
   "id": "6bfcfbd0-69fc-44ae-9a66-801e00143d9c",
   "metadata": {
    "tags": []
   },
   "outputs": [
    {
     "name": "stdout",
     "output_type": "stream",
     "text": [
      "\n",
      "Missing values in each column:\n",
      "Quantity       0\n",
      "InvoiceDate    0\n",
      "Price          0\n",
      "dtype: int64\n"
     ]
    }
   ],
   "source": [
    "# Calculate the number of missing values in each column\n",
    "missing_values = df_onlineretail.isnull().sum()\n",
    "\n",
    "# Print the number of missing values for each column\n",
    "print(\"\\nMissing values in each column:\")\n",
    "print(missing_values)"
   ]
  },
  {
   "cell_type": "code",
   "execution_count": 12,
   "id": "1a629cb0-0908-4de2-9437-0860035bb1d6",
   "metadata": {
    "tags": []
   },
   "outputs": [
    {
     "name": "stdout",
     "output_type": "stream",
     "text": [
      "\n",
      "Rows with negative Prices:\n",
      "        Quantity         InvoiceDate     Price\n",
      "179403         1 2010-04-29 13:36:00 -53594.36\n",
      "276274         1 2010-07-19 11:24:00 -44031.79\n",
      "403472         1 2010-10-20 12:04:00 -38925.87\n",
      "825444         1 2011-08-12 14:51:00 -11062.06\n",
      "825445         1 2011-08-12 14:52:00 -11062.06\n",
      "\n",
      "Rows with negative Quantities:\n",
      "         Quantity         InvoiceDate   Price\n",
      "178           -12 2009-12-01 10:33:00    2.95\n",
      "179            -6 2009-12-01 10:33:00    1.65\n",
      "180            -4 2009-12-01 10:33:00    4.25\n",
      "181            -6 2009-12-01 10:33:00    2.10\n",
      "182           -12 2009-12-01 10:33:00    2.95\n",
      "...           ...                 ...     ...\n",
      "1065910       -11 2011-12-09 09:57:00    0.83\n",
      "1067002        -1 2011-12-09 10:28:00  224.69\n",
      "1067176        -5 2011-12-09 11:57:00   10.95\n",
      "1067177        -1 2011-12-09 11:58:00    1.25\n",
      "1067178        -5 2011-12-09 11:58:00    1.25\n",
      "\n",
      "[22950 rows x 3 columns]\n"
     ]
    }
   ],
   "source": [
    "# Filter out rows with negative prices or quantities\n",
    "negative_prices = df_onlineretail[df_onlineretail['Price'] < 0]\n",
    "negative_quantities = df_onlineretail[df_onlineretail['Quantity'] < 0]\n",
    "\n",
    "# Print rows with negative prices\n",
    "if not negative_prices.empty:\n",
    "    print(\"\\nRows with negative Prices:\")\n",
    "    print(negative_prices)\n",
    "else:\n",
    "    print(\"\\nThere are no negative Prices.\")\n",
    "\n",
    "# Print rows with negative quantities\n",
    "if not negative_quantities.empty:\n",
    "    print(\"\\nRows with negative Quantities:\")\n",
    "    print(negative_quantities)\n",
    "else:\n",
    "    print(\"\\nThere are no negative quantities.\")"
   ]
  },
  {
   "cell_type": "code",
   "execution_count": 13,
   "id": "7b1137c3-096c-473a-9491-c02fe312b061",
   "metadata": {
    "tags": []
   },
   "outputs": [
    {
     "name": "stdout",
     "output_type": "stream",
     "text": [
      "\n",
      "Number of rows removed due to negative prices or quantities: 22955\n"
     ]
    }
   ],
   "source": [
    "# Keep only rows with non-negative prices and quantities\n",
    "df_onlineretail = df_onlineretail[(df_onlineretail['Price'] >= 0) & (df_onlineretail['Quantity'] >= 0)]\n",
    "\n",
    "# Print the number of rows removed due to negative prices or quantities\n",
    "print(\"\\nNumber of rows removed due to negative prices or quantities:\", len(negative_prices) + len(negative_quantities))"
   ]
  },
  {
   "cell_type": "code",
   "execution_count": 14,
   "id": "f6f645f5-fd52-42ed-9081-2c83584f904f",
   "metadata": {
    "tags": []
   },
   "outputs": [
    {
     "name": "stdout",
     "output_type": "stream",
     "text": [
      "Daily Sales Data:\n",
      "    InvoiceDate      Sales\n",
      "0    2009-12-01   54513.50\n",
      "1    2009-12-02   63352.51\n",
      "2    2009-12-03   74037.91\n",
      "3    2009-12-04   40732.92\n",
      "4    2009-12-05    9803.05\n",
      "..          ...        ...\n",
      "599  2011-12-05   88741.96\n",
      "600  2011-12-06   56713.21\n",
      "601  2011-12-07   75439.16\n",
      "602  2011-12-08   82495.00\n",
      "603  2011-12-09  200938.60\n",
      "\n",
      "[604 rows x 2 columns]\n"
     ]
    }
   ],
   "source": [
    "import matplotlib.pyplot as plt\n",
    "\n",
    "# Data Preparation for DeepAR\n",
    "\n",
    "# Calculate the sales by multiplying the quantity and price for each row\n",
    "df_onlineretail['Sales'] = df_onlineretail['Quantity'] * df_onlineretail['Price']\n",
    "\n",
    "# Group the DataFrame by the date component of 'InvoiceDate', summing the 'Sales' for each day, and reset the index\n",
    "daily_sales = df_onlineretail.groupby(df_onlineretail['InvoiceDate'].dt.floor('D'))['Sales'].sum().reset_index()\n",
    "\n",
    "# Display the daily sales data\n",
    "print(\"Daily Sales Data:\")\n",
    "print(daily_sales)"
   ]
  },
  {
   "cell_type": "code",
   "execution_count": 15,
   "id": "b1b60671-ef51-4f0a-b443-669579690ece",
   "metadata": {
    "tags": []
   },
   "outputs": [
    {
     "data": {
      "image/png": "[encoded data removed]",
      "text/plain": [
       "<Figure size 1600x600 with 1 Axes>"
      ]
     },
     "metadata": {},
     "output_type": "display_data"
    }
   ],
   "source": [
    "# Plot the daily sales data with markers for each data point\n",
    "\n",
    "# Create a new figure for the plot with a specified size\n",
    "plt.figure(figsize=(16, 6))\n",
    "\n",
    "# 'InvoiceDate' is on the x-axis, 'Sales' is on the y-axis\n",
    "# Marker style is set to 'o' (circle), line color is set to blue, and line style is set to solid\n",
    "plt.plot(daily_sales['InvoiceDate'], daily_sales['Sales'], marker='o', color='b', linestyle='-')\n",
    "\n",
    "# Set the title of the plot\n",
    "plt.title('Daily Sales')\n",
    "\n",
    "# Set the label for the x-axis\n",
    "plt.xlabel('Date')\n",
    "\n",
    "# Set the label for the y-axis\n",
    "plt.ylabel('Sales')\n",
    "\n",
    "# Add gridlines to the plot\n",
    "plt.grid(True)\n",
    "\n",
    "# Display the plot\n",
    "plt.show()"
   ]
  },
  {
   "cell_type": "code",
   "execution_count": 16,
   "id": "fd3fc537-78ee-44d0-a0f5-c0d9204c866e",
   "metadata": {
    "tags": []
   },
   "outputs": [
    {
     "data": {
      "image/png": "[encoded data removed]",
      "text/plain": [
       "<Figure size 1600x600 with 1 Axes>"
      ]
     },
     "metadata": {},
     "output_type": "display_data"
    }
   ],
   "source": [
    "# Plot the daily sales data for the last week with markers for each data point\n",
    "\n",
    "# Slice the daily_sales DataFrame to include only the last week's worth of data\n",
    "last_week_sales = daily_sales.tail(7)\n",
    "\n",
    "# Create a new figure for the plot with a specified size\n",
    "plt.figure(figsize=(16, 6))\n",
    "\n",
    "# 'InvoiceDate' is on the x-axis, 'Sales' is on the y-axis\n",
    "# Marker style is set to 'o' (circle), line color is set to blue, and line style is set to solid\n",
    "plt.plot(last_week_sales['InvoiceDate'], last_week_sales['Sales'], marker='o', color='b', linestyle='-')\n",
    "\n",
    "# Set the title of the plot\n",
    "plt.title('Daily Sales for the Last Week')\n",
    "\n",
    "# Set the label for the x-axis\n",
    "plt.xlabel('Date')\n",
    "\n",
    "# Set the label for the y-axis\n",
    "plt.ylabel('Sales')\n",
    "\n",
    "# Add gridlines to the plot\n",
    "plt.grid(True)\n",
    "\n",
    "# Display the plot\n",
    "plt.show()\n"
   ]
  },
  {
   "cell_type": "markdown",
   "id": "3bb52ca3-230c-4167-87f8-4ab71788892a",
   "metadata": {},
   "source": [
    "# Data Preparation for DeepAR Model Training"
   ]
  },
  {
   "cell_type": "code",
   "execution_count": 17,
   "id": "6c24901c-54b9-431a-90ee-c5d35a5bdcf8",
   "metadata": {
    "tags": []
   },
   "outputs": [],
   "source": [
    "# Define a function to convert a pandas Series to a JSON object for DeepAR\n",
    "def series_to_json_obj(series):\n",
    "    \"\"\"\n",
    "    Converts a pandas Series to a JSON object for DeepAR.\n",
    "\n",
    "    Parameters:\n",
    "    series (pandas.Series): The time series data.\n",
    "\n",
    "    Returns:\n",
    "    dict: A JSON object with \"start\" and \"target\" keys.\n",
    "    \"\"\"\n",
    "    # DeepAR expects each time series to be a JSON object with \"start\" and \"target\" keys\n",
    "    return {\"start\": str(series.index[0]), \"target\": list(series)}\n",
    "\n",
    "# Convert the 'InvoiceDate' column to string format for compatibility with DeepAR\n",
    "daily_sales['InvoiceDate'] = daily_sales['InvoiceDate'].dt.strftime('%Y-%m-%d')\n",
    "\n",
    "# Split the daily_sales DataFrame into training and testing data\n",
    "# For example, use the first 80% of the data for training and the remaining 20% for testing\n",
    "split_index = int(len(daily_sales) * 0.8)\n",
    "train_data = daily_sales.iloc[:split_index]\n",
    "test_data = daily_sales.iloc[split_index:]\n",
    "\n",
    "# Convert the training data to JSON format for DeepAR\n",
    "train_series_json = train_data.set_index('InvoiceDate')['Sales'].pipe(series_to_json_obj)\n",
    "\n",
    "# Convert the test data to JSON format for DeepAR\n",
    "test_series_json = test_data.set_index('InvoiceDate')['Sales'].pipe(series_to_json_obj)\n",
    "\n",
    "# Save the training data JSON object to a file\n",
    "with open('train_data.json', 'w') as f:\n",
    "    json.dump(train_series_json, f)\n",
    "\n",
    "# Save the test data JSON object to a file\n",
    "with open('test_data.json', 'w') as f:\n",
    "    json.dump(test_series_json, f)"
   ]
  },
  {
   "cell_type": "markdown",
   "id": "96275c17-7c0d-4256-96c5-fda0051d2c14",
   "metadata": {},
   "source": [
    "# SageMaker Session and Environment Setup"
   ]
  },
  {
   "cell_type": "code",
   "execution_count": 18,
   "id": "8b096d61-754c-4087-a137-383b16cb3f5d",
   "metadata": {
    "tags": []
   },
   "outputs": [
    {
     "name": "stdout",
     "output_type": "stream",
     "text": [
      "Execution Role ARN: arn:aws:iam::992382709141:role/LabRole\n",
      "AWS Region: us-east-1\n",
      "Training Data S3 URI: s3://sagemaker-us-east-1-992382709141/sagemaker/onlineretail/basic-prediction/train_data.json\n",
      "Validation Data S3 URI: s3://sagemaker-us-east-1-992382709141/sagemaker/onlineretail/basic-prediction/test_data.json\n"
     ]
    }
   ],
   "source": [
    "# Create a SageMaker session for managing interactions with the SageMaker environment\n",
    "sagemaker_session = sagemaker.Session()\n",
    "\n",
    "# Retrieve the execution role for the current SageMaker notebook instance\n",
    "role = get_execution_role()\n",
    "\n",
    "# Retrieve the AWS region name from the SageMaker session\n",
    "region = sagemaker_session.boto_region_name\n",
    "\n",
    "# Specify the DeepAR container\n",
    "image_uri = retrieve('forecasting-deepar', region)\n",
    "\n",
    "# Define the default Amazon S3 bucket for the SageMaker session\n",
    "bucket = sagemaker_session.default_bucket()\n",
    "\n",
    "# Define the prefix for the S3 key where data will be stored\n",
    "prefix = 'sagemaker/onlineretail/basic-prediction'\n",
    "\n",
    "# Define the path to the local training data file\n",
    "local_train = 'train_data.json'\n",
    "\n",
    "# Define the path to the local validation data file\n",
    "local_validation = 'test_data.json'\n",
    "\n",
    "# Upload the local training data file to the specified S3 bucket and prefix, returning the S3 URI\n",
    "train_uri = sagemaker_session.upload_data(local_train, bucket=bucket, key_prefix=prefix)\n",
    "\n",
    "# Upload the local validation data file to the specified S3 bucket and prefix, returning the S3 URI\n",
    "test_uri = sagemaker_session.upload_data(local_validation, bucket=bucket, key_prefix=prefix)\n",
    "\n",
    "# Print the execution role ARN to the console\n",
    "print(\"Execution Role ARN:\", role)\n",
    "\n",
    "# Print the AWS region name to the console\n",
    "print(\"AWS Region:\", region)\n",
    "\n",
    "# Print the S3 URI for the training data to the console\n",
    "print(\"Training Data S3 URI:\", train_uri)\n",
    "\n",
    "# Print the S3 URI for the validation data to the console\n",
    "print(\"Validation Data S3 URI:\", test_uri)\n"
   ]
  },
  {
   "cell_type": "markdown",
   "id": "fc155aa9-ad14-4325-82ad-289fb5d1ae2e",
   "metadata": {},
   "source": [
    "# Estimator Configuration for DeepAR Algorithm Training"
   ]
  },
  {
   "cell_type": "code",
   "execution_count": 19,
   "id": "cef0c840-2d75-4543-913d-912acf42c43d",
   "metadata": {
    "tags": []
   },
   "outputs": [],
   "source": [
    "from sagemaker.estimator import Estimator\n",
    "\n",
    "# Define an Estimator for the DeepAR algorithm in SageMaker\n",
    "deepar_estimator = Estimator(\n",
    "    sagemaker_session=sagemaker_session,  # Specify the SageMaker session\n",
    "    image_uri=image_uri,  # Specify the container image URI for the DeepAR algorithm\n",
    "    role=role,  # Specify the IAM role ARN used by SageMaker\n",
    "    instance_count=1,  # Specify the number of instances to use for training\n",
    "    instance_type='ml.m5.large',  # Specify the instance type for training\n",
    "    output_path='s3://{}/output'.format(bucket),  # Specify the S3 location for saving the model artifacts and output\n",
    "    base_job_name='onlineretail-deepar-forecasting'  # Specify the base job name for the training job\n",
    ")\n",
    "\n",
    "# Set hyperparameters for the DeepAR algorithm\n",
    "deepar_estimator.set_hyperparameters(\n",
    "    time_freq='D',  # Specify the time frequency of the data (e.g., 'D' for daily)\n",
    "    context_length=30,  # Specify the length of the context used for training (e.g., 30 days)\n",
    "    prediction_length=7,  # Specify the length of the prediction horizon (forecasting 7 days into the future)\n",
    "    epochs=20,  # Specify the number of training epochs\n",
    "    early_stopping_patience=10,  # Specify the number of epochs with no improvement before early stopping\n",
    "    num_dynamic_feat='auto',  # Automatically detect dynamic features (if any)\n",
    "    cardinality='auto'  # Automatically detect the cardinality of categorical features (if any)\n",
    ")"
   ]
  },
  {
   "cell_type": "markdown",
   "id": "80aadd2b-3791-4879-a564-0c358b35b5e7",
   "metadata": {},
   "source": [
    "# Model Training with DeepAR Estimator"
   ]
  },
  {
   "cell_type": "code",
   "execution_count": 16,
   "id": "d6e03db1-a508-4b40-bfdb-18e25b0328e0",
   "metadata": {
    "tags": []
   },
   "outputs": [
    {
     "name": "stderr",
     "output_type": "stream",
     "text": [
      "INFO:sagemaker:Creating training-job with name: onlineretail-deepar-forecasting-2024-02-24-16-46-24-878\n"
     ]
    },
    {
     "name": "stdout",
     "output_type": "stream",
     "text": [
      "2024-02-24 16:46:25 Starting - Starting the training job...\n",
      "2024-02-24 16:46:39 Starting - Preparing the instances for training...\n",
      "2024-02-24 16:47:21 Downloading - Downloading input data...\n",
      "2024-02-24 16:47:51 Downloading - Downloading the training image..................\n",
      "2024-02-24 16:50:52 Training - Training image download completed. Training in progress..\u001b[34mDocker entrypoint called with argument(s): train\u001b[0m\n",
      "\u001b[34mRunning default environment configuration script\u001b[0m\n",
      "\u001b[34mRunning custom environment configuration script\u001b[0m\n",
      "\u001b[34m/opt/amazon/lib/python3.8/site-packages/mxnet/model.py:97: SyntaxWarning: \"is\" with a literal. Did you mean \"==\"?\n",
      "  if num_device is 1 and 'dist' not in kvstore:\u001b[0m\n",
      "\u001b[34m[02/24/2024 16:50:58 INFO 140066464745280] Reading default configuration from /opt/amazon/lib/python3.8/site-packages/algorithm/resources/default-input.json: {'_kvstore': 'auto', '_num_gpus': 'auto', '_num_kv_servers': 'auto', '_tuning_objective_metric': '', 'cardinality': 'auto', 'dropout_rate': '0.10', 'early_stopping_patience': '', 'embedding_dimension': '10', 'learning_rate': '0.001', 'likelihood': 'student-t', 'mini_batch_size': '128', 'num_cells': '40', 'num_dynamic_feat': 'auto', 'num_eval_samples': '100', 'num_layers': '2', 'test_quantiles': '[0.1, 0.2, 0.3, 0.4, 0.5, 0.6, 0.7, 0.8, 0.9]'}\u001b[0m\n",
      "\u001b[34m[02/24/2024 16:50:58 INFO 140066464745280] Merging with provided configuration from /opt/ml/input/config/hyperparameters.json: {'context_length': '30', 'early_stopping_patience': '10', 'epochs': '20', 'prediction_length': '7', 'time_freq': 'D'}\u001b[0m\n",
      "\u001b[34m[02/24/2024 16:50:58 INFO 140066464745280] Final configuration: {'_kvstore': 'auto', '_num_gpus': 'auto', '_num_kv_servers': 'auto', '_tuning_objective_metric': '', 'cardinality': 'auto', 'dropout_rate': '0.10', 'early_stopping_patience': '10', 'embedding_dimension': '10', 'learning_rate': '0.001', 'likelihood': 'student-t', 'mini_batch_size': '128', 'num_cells': '40', 'num_dynamic_feat': 'auto', 'num_eval_samples': '100', 'num_layers': '2', 'test_quantiles': '[0.1, 0.2, 0.3, 0.4, 0.5, 0.6, 0.7, 0.8, 0.9]', 'context_length': '30', 'epochs': '20', 'prediction_length': '7', 'time_freq': 'D'}\u001b[0m\n",
      "\u001b[34mProcess 7 is a worker.\u001b[0m\n",
      "\u001b[34m[02/24/2024 16:50:58 INFO 140066464745280] Detected entry point for worker worker\u001b[0m\n",
      "\u001b[34m[02/24/2024 16:50:58 INFO 140066464745280] Using early stopping with patience 10\u001b[0m\n",
      "\u001b[34m[02/24/2024 16:50:58 INFO 140066464745280] random_seed is None\u001b[0m\n",
      "\u001b[34m[02/24/2024 16:50:58 INFO 140066464745280] [cardinality=auto] `cat` field was NOT found in the file `/opt/ml/input/data/train/train_data.json` and will NOT be used for training.\u001b[0m\n",
      "\u001b[34m[02/24/2024 16:50:58 INFO 140066464745280] [num_dynamic_feat=auto] `dynamic_feat` field was NOT found in the file `/opt/ml/input/data/train/train_data.json` and will NOT be used for training.\u001b[0m\n",
      "\u001b[34m[02/24/2024 16:50:58 INFO 140066464745280] Training set statistics:\u001b[0m\n",
      "\u001b[34m[02/24/2024 16:50:58 INFO 140066464745280] Real time series\u001b[0m\n",
      "\u001b[34m[02/24/2024 16:50:58 INFO 140066464745280] number of time series: 1\u001b[0m\n",
      "\u001b[34m[02/24/2024 16:50:58 INFO 140066464745280] number of observations: 483\u001b[0m\n",
      "\u001b[34m[02/24/2024 16:50:58 INFO 140066464745280] mean target length: 483.0\u001b[0m\n",
      "\u001b[34m[02/24/2024 16:50:58 INFO 140066464745280] min/mean/max target: 3457.110107421875/32275.828157349897/199236.40625\u001b[0m\n",
      "\u001b[34m[02/24/2024 16:50:58 INFO 140066464745280] mean abs(target): 32275.828157349897\u001b[0m\n",
      "\u001b[34m[02/24/2024 16:50:58 INFO 140066464745280] contains missing values: no\u001b[0m\n",
      "\u001b[34m[02/24/2024 16:50:58 INFO 140066464745280] Small number of time series. Doing 1280 passes over dataset with prob 1.0 per epoch.\u001b[0m\n",
      "\u001b[34m[02/24/2024 16:50:58 INFO 140066464745280] Test set statistics:\u001b[0m\n",
      "\u001b[34m[02/24/2024 16:50:58 INFO 140066464745280] Real time series\u001b[0m\n",
      "\u001b[34m[02/24/2024 16:50:58 INFO 140066464745280] number of time series: 1\u001b[0m\n",
      "\u001b[34m[02/24/2024 16:50:58 INFO 140066464745280] number of observations: 121\u001b[0m\n",
      "\u001b[34m[02/24/2024 16:50:58 INFO 140066464745280] mean target length: 121.0\u001b[0m\n",
      "\u001b[34m[02/24/2024 16:50:58 INFO 140066464745280] min/mean/max target: 5718.56982421875/44493.739669421484/200938.59375\u001b[0m\n",
      "\u001b[34m[02/24/2024 16:50:58 INFO 140066464745280] mean abs(target): 44493.739669421484\u001b[0m\n",
      "\u001b[34m[02/24/2024 16:50:58 INFO 140066464745280] contains missing values: no\u001b[0m\n",
      "\u001b[34m/opt/amazon/lib/python3.8/site-packages/algorithm/core/date_feature_set.py:44: FutureWarning: weekofyear and week have been deprecated, please use DatetimeIndex.isocalendar().week instead, which returns a Series.  To exactly reproduce the behavior of week and weekofyear and return an Index, you may call pd.Int64Index(idx.isocalendar().week)\n",
      "  return index.weekofyear / 51.0 - 0.5\u001b[0m\n",
      "\u001b[34m[02/24/2024 16:50:58 INFO 140066464745280] #memory_usage::<batchbuffer> = 15.673828125 mb\u001b[0m\n",
      "\u001b[34m/opt/amazon/python3.8/lib/python3.8/subprocess.py:848: RuntimeWarning: line buffering (buffering=1) isn't supported in binary mode, the default buffer size will be used\n",
      "  self.stdout = io.open(c2pread, 'rb', bufsize)\u001b[0m\n",
      "\u001b[34m[02/24/2024 16:50:58 INFO 140066464745280] nvidia-smi: took 0.031 seconds to run.\u001b[0m\n",
      "\u001b[34m[02/24/2024 16:50:58 INFO 140066464745280] nvidia-smi identified 0 GPUs.\u001b[0m\n",
      "\u001b[34m[02/24/2024 16:50:58 INFO 140066464745280] Number of GPUs being used: 0\u001b[0m\n",
      "\u001b[34m[02/24/2024 16:50:58 INFO 140066464745280] Create Store: local\u001b[0m\n",
      "\u001b[34m#metrics {\"StartTime\": 1708793458.655345, \"EndTime\": 1708793458.7527628, \"Dimensions\": {\"Algorithm\": \"AWS/DeepAR\", \"Host\": \"algo-1\", \"Operation\": \"training\"}, \"Metrics\": {\"get_graph.time\": {\"sum\": 96.2209701538086, \"count\": 1, \"min\": 96.2209701538086, \"max\": 96.2209701538086}}}\u001b[0m\n",
      "\u001b[34m[02/24/2024 16:50:58 INFO 140066464745280] Number of GPUs being used: 0\u001b[0m\n",
      "\u001b[34m[02/24/2024 16:50:58 INFO 140066464745280] #memory_usage::<model> = 33 mb\u001b[0m\n",
      "\u001b[34m#metrics {\"StartTime\": 1708793458.7528439, \"EndTime\": 1708793458.9162831, \"Dimensions\": {\"Algorithm\": \"AWS/DeepAR\", \"Host\": \"algo-1\", \"Operation\": \"training\"}, \"Metrics\": {\"initialize.time\": {\"sum\": 260.78104972839355, \"count\": 1, \"min\": 260.78104972839355, \"max\": 260.78104972839355}}}\u001b[0m\n",
      "\u001b[34m[16:50:59] /opt/brazil-pkg-cache/packages/AIAlgorithmsMXNet/AIAlgorithmsMXNet-1.3.x_Cuda_11.1.x.403.0/AL2_x86_64/generic-flavor/src/src/operator/nn/mkldnn/mkldnn_base.cc:74: Allocate 20480 bytes with malloc directly\u001b[0m\n",
      "\u001b[34m[02/24/2024 16:50:59 INFO 140066464745280] Epoch[0] Batch[0] avg_epoch_loss=13.339887\u001b[0m\n",
      "\u001b[34m[02/24/2024 16:50:59 INFO 140066464745280] #quality_metric: host=algo-1, epoch=0, batch=0 train loss <loss>=13.339886665344238\u001b[0m\n",
      "\u001b[34m[02/24/2024 16:51:00 INFO 140066464745280] Epoch[0] Batch[5] avg_epoch_loss=12.129213\u001b[0m\n",
      "\u001b[34m[02/24/2024 16:51:00 INFO 140066464745280] #quality_metric: host=algo-1, epoch=0, batch=5 train loss <loss>=12.129212856292725\u001b[0m\n",
      "\u001b[34m[02/24/2024 16:51:00 INFO 140066464745280] Epoch[0] Batch [5]#011Speed: 638.14 samples/sec#011loss=12.129213\u001b[0m\n",
      "\u001b[34m[02/24/2024 16:51:01 INFO 140066464745280] processed a total of 1225 examples\u001b[0m\n",
      "\u001b[34m#metrics {\"StartTime\": 1708793458.9163492, \"EndTime\": 1708793461.612455, \"Dimensions\": {\"Algorithm\": \"AWS/DeepAR\", \"Host\": \"algo-1\", \"Operation\": \"training\"}, \"Metrics\": {\"epochs\": {\"sum\": 20.0, \"count\": 1, \"min\": 20, \"max\": 20}, \"update.time\": {\"sum\": 2695.9316730499268, \"count\": 1, \"min\": 2695.9316730499268, \"max\": 2695.9316730499268}}}\u001b[0m\n",
      "\u001b[34m[02/24/2024 16:51:01 INFO 140066464745280] #throughput_metric: host=algo-1, train throughput=454.35658683301926 records/second\u001b[0m\n",
      "\u001b[34m[02/24/2024 16:51:01 INFO 140066464745280] #progress_metric: host=algo-1, completed 5.0 % of epochs\u001b[0m\n",
      "\u001b[34m[02/24/2024 16:51:01 INFO 140066464745280] #quality_metric: host=algo-1, epoch=0, train loss <loss>=11.701343250274657\u001b[0m\n",
      "\u001b[34m[02/24/2024 16:51:01 INFO 140066464745280] best epoch loss so far\u001b[0m\n",
      "\u001b[34m[02/24/2024 16:51:01 INFO 140066464745280] Saved checkpoint to \"/opt/ml/model/state_c1636892-d36d-417e-b783-8793ae11c080-0000.params\"\u001b[0m\n",
      "\u001b[34m#metrics {\"StartTime\": 1708793461.6125422, \"EndTime\": 1708793461.6384802, \"Dimensions\": {\"Algorithm\": \"AWS/DeepAR\", \"Host\": \"algo-1\", \"Operation\": \"training\"}, \"Metrics\": {\"state.serialize.time\": {\"sum\": 25.192975997924805, \"count\": 1, \"min\": 25.192975997924805, \"max\": 25.192975997924805}}}\u001b[0m\n",
      "\u001b[34m[02/24/2024 16:51:02 INFO 140066464745280] Epoch[1] Batch[0] avg_epoch_loss=10.931538\u001b[0m\n",
      "\u001b[34m[02/24/2024 16:51:02 INFO 140066464745280] #quality_metric: host=algo-1, epoch=1, batch=0 train loss <loss>=10.931537628173828\u001b[0m\n",
      "\u001b[34m[02/24/2024 16:51:04 INFO 140066464745280] Epoch[1] Batch[5] avg_epoch_loss=10.976582\u001b[0m\n",
      "\u001b[34m[02/24/2024 16:51:04 INFO 140066464745280] #quality_metric: host=algo-1, epoch=1, batch=5 train loss <loss>=10.976582050323486\u001b[0m\n",
      "\u001b[34m[02/24/2024 16:51:04 INFO 140066464745280] Epoch[1] Batch [5]#011Speed: 378.79 samples/sec#011loss=10.976582\u001b[0m\n",
      "\u001b[34m[02/24/2024 16:51:05 INFO 140066464745280] processed a total of 1240 examples\u001b[0m\n",
      "\u001b[34m#metrics {\"StartTime\": 1708793461.6385665, \"EndTime\": 1708793465.5368156, \"Dimensions\": {\"Algorithm\": \"AWS/DeepAR\", \"Host\": \"algo-1\", \"Operation\": \"training\"}, \"Metrics\": {\"update.time\": {\"sum\": 3898.0941772460938, \"count\": 1, \"min\": 3898.0941772460938, \"max\": 3898.0941772460938}}}\u001b[0m\n",
      "\u001b[34m[02/24/2024 16:51:05 INFO 140066464745280] #throughput_metric: host=algo-1, train throughput=318.0828247320375 records/second\u001b[0m\n",
      "\u001b[34m[02/24/2024 16:51:05 INFO 140066464745280] #progress_metric: host=algo-1, completed 10.0 % of epochs\u001b[0m\n",
      "\u001b[34m[02/24/2024 16:51:05 INFO 140066464745280] #quality_metric: host=algo-1, epoch=1, train loss <loss>=10.935321521759032\u001b[0m\n",
      "\u001b[34m[02/24/2024 16:51:05 INFO 140066464745280] best epoch loss so far\u001b[0m\n",
      "\u001b[34m[02/24/2024 16:51:05 INFO 140066464745280] Saved checkpoint to \"/opt/ml/model/state_4b62bbc0-bf1d-46bd-9173-7f3561f54109-0000.params\"\u001b[0m\n",
      "\u001b[34m#metrics {\"StartTime\": 1708793465.536955, \"EndTime\": 1708793465.5624743, \"Dimensions\": {\"Algorithm\": \"AWS/DeepAR\", \"Host\": \"algo-1\", \"Operation\": \"training\"}, \"Metrics\": {\"state.serialize.time\": {\"sum\": 24.541854858398438, \"count\": 1, \"min\": 24.541854858398438, \"max\": 24.541854858398438}}}\u001b[0m\n",
      "\u001b[34m[02/24/2024 16:51:06 INFO 140066464745280] Epoch[2] Batch[0] avg_epoch_loss=10.842267\u001b[0m\n",
      "\u001b[34m[02/24/2024 16:51:06 INFO 140066464745280] #quality_metric: host=algo-1, epoch=2, batch=0 train loss <loss>=10.842267036437988\u001b[0m\n",
      "\u001b[34m[02/24/2024 16:51:07 INFO 140066464745280] Epoch[2] Batch[5] avg_epoch_loss=10.807975\u001b[0m\n",
      "\u001b[34m[02/24/2024 16:51:07 INFO 140066464745280] #quality_metric: host=algo-1, epoch=2, batch=5 train loss <loss>=10.807975133260092\u001b[0m\n",
      "\u001b[34m[02/24/2024 16:51:07 INFO 140066464745280] Epoch[2] Batch [5]#011Speed: 431.94 samples/sec#011loss=10.807975\u001b[0m\n",
      "\u001b[34m[02/24/2024 16:51:09 INFO 140066464745280] Epoch[2] Batch[10] avg_epoch_loss=10.791280\u001b[0m\n",
      "\u001b[34m[02/24/2024 16:51:09 INFO 140066464745280] #quality_metric: host=algo-1, epoch=2, batch=10 train loss <loss>=10.771245193481445\u001b[0m\n",
      "\u001b[34m[02/24/2024 16:51:09 INFO 140066464745280] Epoch[2] Batch [10]#011Speed: 526.83 samples/sec#011loss=10.771245\u001b[0m\n",
      "\u001b[34m[02/24/2024 16:51:09 INFO 140066464745280] processed a total of 1305 examples\u001b[0m\n",
      "\u001b[34m#metrics {\"StartTime\": 1708793465.562688, \"EndTime\": 1708793469.148178, \"Dimensions\": {\"Algorithm\": \"AWS/DeepAR\", \"Host\": \"algo-1\", \"Operation\": \"training\"}, \"Metrics\": {\"update.time\": {\"sum\": 3585.3633880615234, \"count\": 1, \"min\": 3585.3633880615234, \"max\": 3585.3633880615234}}}\u001b[0m\n",
      "\u001b[34m[02/24/2024 16:51:09 INFO 140066464745280] #throughput_metric: host=algo-1, train throughput=363.96754700500287 records/second\u001b[0m\n",
      "\u001b[34m[02/24/2024 16:51:09 INFO 140066464745280] #progress_metric: host=algo-1, completed 15.0 % of epochs\u001b[0m\n",
      "\u001b[34m[02/24/2024 16:51:09 INFO 140066464745280] #quality_metric: host=algo-1, epoch=2, train loss <loss>=10.791279706087979\u001b[0m\n",
      "\u001b[34m[02/24/2024 16:51:09 INFO 140066464745280] best epoch loss so far\u001b[0m\n",
      "\u001b[34m[02/24/2024 16:51:09 INFO 140066464745280] Saved checkpoint to \"/opt/ml/model/state_c431b5f2-1b19-4ccf-93bd-ea17c1984bf4-0000.params\"\u001b[0m\n",
      "\u001b[34m#metrics {\"StartTime\": 1708793469.148265, \"EndTime\": 1708793469.1677077, \"Dimensions\": {\"Algorithm\": \"AWS/DeepAR\", \"Host\": \"algo-1\", \"Operation\": \"training\"}, \"Metrics\": {\"state.serialize.time\": {\"sum\": 18.94211769104004, \"count\": 1, \"min\": 18.94211769104004, \"max\": 18.94211769104004}}}\u001b[0m\n",
      "\u001b[34m[02/24/2024 16:51:09 INFO 140066464745280] Epoch[3] Batch[0] avg_epoch_loss=10.729284\u001b[0m\n",
      "\u001b[34m[02/24/2024 16:51:09 INFO 140066464745280] #quality_metric: host=algo-1, epoch=3, batch=0 train loss <loss>=10.729284286499023\u001b[0m\n",
      "\u001b[34m[02/24/2024 16:51:10 INFO 140066464745280] Epoch[3] Batch[5] avg_epoch_loss=10.678361\u001b[0m\n",
      "\u001b[34m[02/24/2024 16:51:10 INFO 140066464745280] #quality_metric: host=algo-1, epoch=3, batch=5 train loss <loss>=10.678361415863037\u001b[0m\n",
      "\u001b[34m[02/24/2024 16:51:10 INFO 140066464745280] Epoch[3] Batch [5]#011Speed: 641.98 samples/sec#011loss=10.678361\u001b[0m\n",
      "\u001b[34m[02/24/2024 16:51:11 INFO 140066464745280] processed a total of 1257 examples\u001b[0m\n",
      "\u001b[34m#metrics {\"StartTime\": 1708793469.167779, \"EndTime\": 1708793471.525401, \"Dimensions\": {\"Algorithm\": \"AWS/DeepAR\", \"Host\": \"algo-1\", \"Operation\": \"training\"}, \"Metrics\": {\"update.time\": {\"sum\": 2357.56254196167, \"count\": 1, \"min\": 2357.56254196167, \"max\": 2357.56254196167}}}\u001b[0m\n",
      "\u001b[34m[02/24/2024 16:51:11 INFO 140066464745280] #throughput_metric: host=algo-1, train throughput=533.1534253041779 records/second\u001b[0m\n",
      "\u001b[34m[02/24/2024 16:51:11 INFO 140066464745280] #progress_metric: host=algo-1, completed 20.0 % of epochs\u001b[0m\n",
      "\u001b[34m[02/24/2024 16:51:11 INFO 140066464745280] #quality_metric: host=algo-1, epoch=3, train loss <loss>=10.651994228363037\u001b[0m\n",
      "\u001b[34m[02/24/2024 16:51:11 INFO 140066464745280] best epoch loss so far\u001b[0m\n",
      "\u001b[34m[02/24/2024 16:51:11 INFO 140066464745280] Saved checkpoint to \"/opt/ml/model/state_32392c26-5b1d-43fa-b1f6-7fe94ccf7cfb-0000.params\"\u001b[0m\n",
      "\u001b[34m#metrics {\"StartTime\": 1708793471.5254767, \"EndTime\": 1708793471.5398679, \"Dimensions\": {\"Algorithm\": \"AWS/DeepAR\", \"Host\": \"algo-1\", \"Operation\": \"training\"}, \"Metrics\": {\"state.serialize.time\": {\"sum\": 13.91148567199707, \"count\": 1, \"min\": 13.91148567199707, \"max\": 13.91148567199707}}}\u001b[0m\n",
      "\u001b[34m[02/24/2024 16:51:12 INFO 140066464745280] Epoch[4] Batch[0] avg_epoch_loss=10.609379\u001b[0m\n",
      "\u001b[34m[02/24/2024 16:51:12 INFO 140066464745280] #quality_metric: host=algo-1, epoch=4, batch=0 train loss <loss>=10.609378814697266\u001b[0m\n",
      "\u001b[34m[02/24/2024 16:51:13 INFO 140066464745280] Epoch[4] Batch[5] avg_epoch_loss=10.696324\u001b[0m\n",
      "\u001b[34m[02/24/2024 16:51:13 INFO 140066464745280] #quality_metric: host=algo-1, epoch=4, batch=5 train loss <loss>=10.69632355372111\u001b[0m\n",
      "\u001b[34m[02/24/2024 16:51:13 INFO 140066464745280] Epoch[4] Batch [5]#011Speed: 628.70 samples/sec#011loss=10.696324\u001b[0m\n",
      "\u001b[34m[02/24/2024 16:51:13 INFO 140066464745280] processed a total of 1235 examples\u001b[0m\n",
      "\u001b[34m#metrics {\"StartTime\": 1708793471.539934, \"EndTime\": 1708793473.9352956, \"Dimensions\": {\"Algorithm\": \"AWS/DeepAR\", \"Host\": \"algo-1\", \"Operation\": \"training\"}, \"Metrics\": {\"update.time\": {\"sum\": 2395.2291011810303, \"count\": 1, \"min\": 2395.2291011810303, \"max\": 2395.2291011810303}}}\u001b[0m\n",
      "\u001b[34m[02/24/2024 16:51:13 INFO 140066464745280] #throughput_metric: host=algo-1, train throughput=515.5672940240177 records/second\u001b[0m\n",
      "\u001b[34m[02/24/2024 16:51:13 INFO 140066464745280] #progress_metric: host=algo-1, completed 25.0 % of epochs\u001b[0m\n",
      "\u001b[34m[02/24/2024 16:51:13 INFO 140066464745280] #quality_metric: host=algo-1, epoch=4, train loss <loss>=10.729725170135499\u001b[0m\n",
      "\u001b[34m[02/24/2024 16:51:13 INFO 140066464745280] loss did not improve\u001b[0m\n",
      "\u001b[34m[02/24/2024 16:51:14 INFO 140066464745280] Epoch[5] Batch[0] avg_epoch_loss=10.613853\u001b[0m\n",
      "\u001b[34m[02/24/2024 16:51:14 INFO 140066464745280] #quality_metric: host=algo-1, epoch=5, batch=0 train loss <loss>=10.613852500915527\u001b[0m\n",
      "\u001b[34m[02/24/2024 16:51:15 INFO 140066464745280] Epoch[5] Batch[5] avg_epoch_loss=10.635120\u001b[0m\n",
      "\u001b[34m[02/24/2024 16:51:15 INFO 140066464745280] #quality_metric: host=algo-1, epoch=5, batch=5 train loss <loss>=10.635120232899984\u001b[0m\n",
      "\u001b[34m[02/24/2024 16:51:15 INFO 140066464745280] Epoch[5] Batch [5]#011Speed: 652.58 samples/sec#011loss=10.635120\u001b[0m\n",
      "\u001b[34m[02/24/2024 16:51:16 INFO 140066464745280] processed a total of 1241 examples\u001b[0m\n",
      "\u001b[34m#metrics {\"StartTime\": 1708793473.9353743, \"EndTime\": 1708793476.283483, \"Dimensions\": {\"Algorithm\": \"AWS/DeepAR\", \"Host\": \"algo-1\", \"Operation\": \"training\"}, \"Metrics\": {\"update.time\": {\"sum\": 2347.3687171936035, \"count\": 1, \"min\": 2347.3687171936035, \"max\": 2347.3687171936035}}}\u001b[0m\n",
      "\u001b[34m[02/24/2024 16:51:16 INFO 140066464745280] #throughput_metric: host=algo-1, train throughput=528.651451164959 records/second\u001b[0m\n",
      "\u001b[34m[02/24/2024 16:51:16 INFO 140066464745280] #progress_metric: host=algo-1, completed 30.0 % of epochs\u001b[0m\n",
      "\u001b[34m[02/24/2024 16:51:16 INFO 140066464745280] #quality_metric: host=algo-1, epoch=5, train loss <loss>=10.64830904006958\u001b[0m\n",
      "\u001b[34m[02/24/2024 16:51:16 INFO 140066464745280] best epoch loss so far\u001b[0m\n",
      "\u001b[34m[02/24/2024 16:51:16 INFO 140066464745280] Saved checkpoint to \"/opt/ml/model/state_afbe8227-253a-4a11-a8c4-daa70534cde4-0000.params\"\u001b[0m\n",
      "\u001b[34m#metrics {\"StartTime\": 1708793476.2835603, \"EndTime\": 1708793476.298288, \"Dimensions\": {\"Algorithm\": \"AWS/DeepAR\", \"Host\": \"algo-1\", \"Operation\": \"training\"}, \"Metrics\": {\"state.serialize.time\": {\"sum\": 14.23025131225586, \"count\": 1, \"min\": 14.23025131225586, \"max\": 14.23025131225586}}}\u001b[0m\n",
      "\u001b[34m[02/24/2024 16:51:16 INFO 140066464745280] Epoch[6] Batch[0] avg_epoch_loss=10.900852\u001b[0m\n",
      "\u001b[34m[02/24/2024 16:51:16 INFO 140066464745280] #quality_metric: host=algo-1, epoch=6, batch=0 train loss <loss>=10.90085220336914\u001b[0m\n",
      "\u001b[34m[02/24/2024 16:51:17 INFO 140066464745280] Epoch[6] Batch[5] avg_epoch_loss=10.728678\u001b[0m\n",
      "\u001b[34m[02/24/2024 16:51:17 INFO 140066464745280] #quality_metric: host=algo-1, epoch=6, batch=5 train loss <loss>=10.728678385416666\u001b[0m\n",
      "\u001b[34m[02/24/2024 16:51:17 INFO 140066464745280] Epoch[6] Batch [5]#011Speed: 636.36 samples/sec#011loss=10.728678\u001b[0m\n",
      "\u001b[34m[02/24/2024 16:51:18 INFO 140066464745280] processed a total of 1247 examples\u001b[0m\n",
      "\u001b[34m#metrics {\"StartTime\": 1708793476.2983532, \"EndTime\": 1708793478.6767542, \"Dimensions\": {\"Algorithm\": \"AWS/DeepAR\", \"Host\": \"algo-1\", \"Operation\": \"training\"}, \"Metrics\": {\"update.time\": {\"sum\": 2378.168821334839, \"count\": 1, \"min\": 2378.168821334839, \"max\": 2378.168821334839}}}\u001b[0m\n",
      "\u001b[34m[02/24/2024 16:51:18 INFO 140066464745280] #throughput_metric: host=algo-1, train throughput=524.288157664843 records/second\u001b[0m\n",
      "\u001b[34m[02/24/2024 16:51:18 INFO 140066464745280] #progress_metric: host=algo-1, completed 35.0 % of epochs\u001b[0m\n",
      "\u001b[34m[02/24/2024 16:51:18 INFO 140066464745280] #quality_metric: host=algo-1, epoch=6, train loss <loss>=10.684477996826171\u001b[0m\n",
      "\u001b[34m[02/24/2024 16:51:18 INFO 140066464745280] loss did not improve\u001b[0m\n",
      "\u001b[34m[02/24/2024 16:51:19 INFO 140066464745280] Epoch[7] Batch[0] avg_epoch_loss=10.716991\u001b[0m\n",
      "\u001b[34m[02/24/2024 16:51:19 INFO 140066464745280] #quality_metric: host=algo-1, epoch=7, batch=0 train loss <loss>=10.716991424560547\u001b[0m\n",
      "\u001b[34m[02/24/2024 16:51:20 INFO 140066464745280] Epoch[7] Batch[5] avg_epoch_loss=10.703893\u001b[0m\n",
      "\u001b[34m[02/24/2024 16:51:20 INFO 140066464745280] #quality_metric: host=algo-1, epoch=7, batch=5 train loss <loss>=10.703893184661865\u001b[0m\n",
      "\u001b[34m[02/24/2024 16:51:20 INFO 140066464745280] Epoch[7] Batch [5]#011Speed: 636.26 samples/sec#011loss=10.703893\u001b[0m\n",
      "\u001b[34m[02/24/2024 16:51:21 INFO 140066464745280] Epoch[7] Batch[10] avg_epoch_loss=10.713182\u001b[0m\n",
      "\u001b[34m[02/24/2024 16:51:21 INFO 140066464745280] #quality_metric: host=algo-1, epoch=7, batch=10 train loss <loss>=10.72432918548584\u001b[0m\n",
      "\u001b[34m[02/24/2024 16:51:21 INFO 140066464745280] Epoch[7] Batch [10]#011Speed: 621.61 samples/sec#011loss=10.724329\u001b[0m\n",
      "\u001b[34m[02/24/2024 16:51:21 INFO 140066464745280] processed a total of 1330 examples\u001b[0m\n",
      "\u001b[34m#metrics {\"StartTime\": 1708793478.6768808, \"EndTime\": 1708793481.3143609, \"Dimensions\": {\"Algorithm\": \"AWS/DeepAR\", \"Host\": \"algo-1\", \"Operation\": \"training\"}, \"Metrics\": {\"update.time\": {\"sum\": 2636.7738246917725, \"count\": 1, \"min\": 2636.7738246917725, \"max\": 2636.7738246917725}}}\u001b[0m\n",
      "\u001b[34m[02/24/2024 16:51:21 INFO 140066464745280] #throughput_metric: host=algo-1, train throughput=504.3832999800812 records/second\u001b[0m\n",
      "\u001b[34m[02/24/2024 16:51:21 INFO 140066464745280] #progress_metric: host=algo-1, completed 40.0 % of epochs\u001b[0m\n",
      "\u001b[34m[02/24/2024 16:51:21 INFO 140066464745280] #quality_metric: host=algo-1, epoch=7, train loss <loss>=10.71318227594549\u001b[0m\n",
      "\u001b[34m[02/24/2024 16:51:21 INFO 140066464745280] loss did not improve\u001b[0m\n",
      "\u001b[34m[02/24/2024 16:51:21 INFO 140066464745280] Epoch[8] Batch[0] avg_epoch_loss=10.559276\u001b[0m\n",
      "\u001b[34m[02/24/2024 16:51:21 INFO 140066464745280] #quality_metric: host=algo-1, epoch=8, batch=0 train loss <loss>=10.55927562713623\u001b[0m\n",
      "\u001b[34m[02/24/2024 16:51:22 INFO 140066464745280] Epoch[8] Batch[5] avg_epoch_loss=10.647675\u001b[0m\n",
      "\u001b[34m[02/24/2024 16:51:22 INFO 140066464745280] #quality_metric: host=algo-1, epoch=8, batch=5 train loss <loss>=10.647675037384033\u001b[0m\n",
      "\u001b[34m[02/24/2024 16:51:22 INFO 140066464745280] Epoch[8] Batch [5]#011Speed: 636.15 samples/sec#011loss=10.647675\u001b[0m\n",
      "\u001b[34m[02/24/2024 16:51:23 INFO 140066464745280] Epoch[8] Batch[10] avg_epoch_loss=10.630855\u001b[0m\n",
      "\u001b[34m[02/24/2024 16:51:23 INFO 140066464745280] #quality_metric: host=algo-1, epoch=8, batch=10 train loss <loss>=10.610671997070312\u001b[0m\n",
      "\u001b[34m[02/24/2024 16:51:23 INFO 140066464745280] Epoch[8] Batch [10]#011Speed: 637.66 samples/sec#011loss=10.610672\u001b[0m\n",
      "\u001b[34m[02/24/2024 16:51:23 INFO 140066464745280] processed a total of 1294 examples\u001b[0m\n",
      "\u001b[34m#metrics {\"StartTime\": 1708793481.314436, \"EndTime\": 1708793483.9059434, \"Dimensions\": {\"Algorithm\": \"AWS/DeepAR\", \"Host\": \"algo-1\", \"Operation\": \"training\"}, \"Metrics\": {\"update.time\": {\"sum\": 2591.0940170288086, \"count\": 1, \"min\": 2591.0940170288086, \"max\": 2591.0940170288086}}}\u001b[0m\n",
      "\u001b[34m[02/24/2024 16:51:23 INFO 140066464745280] #throughput_metric: host=algo-1, train throughput=499.38489297566326 records/second\u001b[0m\n",
      "\u001b[34m[02/24/2024 16:51:23 INFO 140066464745280] #progress_metric: host=algo-1, completed 45.0 % of epochs\u001b[0m\n",
      "\u001b[34m[02/24/2024 16:51:23 INFO 140066464745280] #quality_metric: host=algo-1, epoch=8, train loss <loss>=10.630855473605068\u001b[0m\n",
      "\u001b[34m[02/24/2024 16:51:23 INFO 140066464745280] best epoch loss so far\u001b[0m\n",
      "\u001b[34m[02/24/2024 16:51:23 INFO 140066464745280] Saved checkpoint to \"/opt/ml/model/state_e5226862-4e58-4d1f-a03b-fbe3db61756f-0000.params\"\u001b[0m\n",
      "\u001b[34m#metrics {\"StartTime\": 1708793483.9060047, \"EndTime\": 1708793483.921424, \"Dimensions\": {\"Algorithm\": \"AWS/DeepAR\", \"Host\": \"algo-1\", \"Operation\": \"training\"}, \"Metrics\": {\"state.serialize.time\": {\"sum\": 14.642715454101562, \"count\": 1, \"min\": 14.642715454101562, \"max\": 14.642715454101562}}}\u001b[0m\n",
      "\u001b[34m[02/24/2024 16:51:24 INFO 140066464745280] Epoch[9] Batch[0] avg_epoch_loss=10.640045\u001b[0m\n",
      "\u001b[34m[02/24/2024 16:51:24 INFO 140066464745280] #quality_metric: host=algo-1, epoch=9, batch=0 train loss <loss>=10.640045166015625\u001b[0m\n",
      "\u001b[34m[02/24/2024 16:51:25 INFO 140066464745280] Epoch[9] Batch[5] avg_epoch_loss=10.542482\u001b[0m\n",
      "\u001b[34m[02/24/2024 16:51:25 INFO 140066464745280] #quality_metric: host=algo-1, epoch=9, batch=5 train loss <loss>=10.542481581370035\u001b[0m\n",
      "\u001b[34m[02/24/2024 16:51:25 INFO 140066464745280] Epoch[9] Batch [5]#011Speed: 637.31 samples/sec#011loss=10.542482\u001b[0m\n",
      "\u001b[34m[02/24/2024 16:51:26 INFO 140066464745280] Epoch[9] Batch[10] avg_epoch_loss=10.371799\u001b[0m\n",
      "\u001b[34m[02/24/2024 16:51:26 INFO 140066464745280] #quality_metric: host=algo-1, epoch=9, batch=10 train loss <loss>=10.166980361938476\u001b[0m\n",
      "\u001b[34m[02/24/2024 16:51:26 INFO 140066464745280] Epoch[9] Batch [10]#011Speed: 470.40 samples/sec#011loss=10.166980\u001b[0m\n",
      "\u001b[34m[02/24/2024 16:51:26 INFO 140066464745280] processed a total of 1327 examples\u001b[0m\n",
      "\u001b[34m#metrics {\"StartTime\": 1708793483.9214828, \"EndTime\": 1708793486.8405998, \"Dimensions\": {\"Algorithm\": \"AWS/DeepAR\", \"Host\": \"algo-1\", \"Operation\": \"training\"}, \"Metrics\": {\"update.time\": {\"sum\": 2918.961524963379, \"count\": 1, \"min\": 2918.961524963379, \"max\": 2918.961524963379}}}\u001b[0m\n",
      "\u001b[34m[02/24/2024 16:51:26 INFO 140066464745280] #throughput_metric: host=algo-1, train throughput=454.59947615841224 records/second\u001b[0m\n",
      "\u001b[34m[02/24/2024 16:51:26 INFO 140066464745280] #progress_metric: host=algo-1, completed 50.0 % of epochs\u001b[0m\n",
      "\u001b[34m[02/24/2024 16:51:26 INFO 140066464745280] #quality_metric: host=algo-1, epoch=9, train loss <loss>=10.371799208901145\u001b[0m\n",
      "\u001b[34m[02/24/2024 16:51:26 INFO 140066464745280] best epoch loss so far\u001b[0m\n",
      "\u001b[34m[02/24/2024 16:51:26 INFO 140066464745280] Saved checkpoint to \"/opt/ml/model/state_0d7a3212-1c10-4823-817a-c82c47ad9f2c-0000.params\"\u001b[0m\n",
      "\u001b[34m#metrics {\"StartTime\": 1708793486.8406632, \"EndTime\": 1708793486.8563921, \"Dimensions\": {\"Algorithm\": \"AWS/DeepAR\", \"Host\": \"algo-1\", \"Operation\": \"training\"}, \"Metrics\": {\"state.serialize.time\": {\"sum\": 15.262365341186523, \"count\": 1, \"min\": 15.262365341186523, \"max\": 15.262365341186523}}}\u001b[0m\n",
      "\u001b[34m[02/24/2024 16:51:27 INFO 140066464745280] Epoch[10] Batch[0] avg_epoch_loss=10.778305\u001b[0m\n",
      "\u001b[34m[02/24/2024 16:51:27 INFO 140066464745280] #quality_metric: host=algo-1, epoch=10, batch=0 train loss <loss>=10.778305053710938\u001b[0m\n",
      "\u001b[34m[02/24/2024 16:51:28 INFO 140066464745280] Epoch[10] Batch[5] avg_epoch_loss=10.608383\u001b[0m\n",
      "\u001b[34m[02/24/2024 16:51:28 INFO 140066464745280] #quality_metric: host=algo-1, epoch=10, batch=5 train loss <loss>=10.60838270187378\u001b[0m\n",
      "\u001b[34m[02/24/2024 16:51:28 INFO 140066464745280] Epoch[10] Batch [5]#011Speed: 625.44 samples/sec#011loss=10.608383\u001b[0m\n",
      "\u001b[34m[02/24/2024 16:51:29 INFO 140066464745280] processed a total of 1279 examples\u001b[0m\n",
      "\u001b[34m#metrics {\"StartTime\": 1708793486.8564646, \"EndTime\": 1708793489.2451134, \"Dimensions\": {\"Algorithm\": \"AWS/DeepAR\", \"Host\": \"algo-1\", \"Operation\": \"training\"}, \"Metrics\": {\"update.time\": {\"sum\": 2388.5746002197266, \"count\": 1, \"min\": 2388.5746002197266, \"max\": 2388.5746002197266}}}\u001b[0m\n",
      "\u001b[34m[02/24/2024 16:51:29 INFO 140066464745280] #throughput_metric: host=algo-1, train throughput=535.4375770041848 records/second\u001b[0m\n",
      "\u001b[34m[02/24/2024 16:51:29 INFO 140066464745280] #progress_metric: host=algo-1, completed 55.0 % of epochs\u001b[0m\n",
      "\u001b[34m[02/24/2024 16:51:29 INFO 140066464745280] #quality_metric: host=algo-1, epoch=10, train loss <loss>=10.555044364929199\u001b[0m\n",
      "\u001b[34m[02/24/2024 16:51:29 INFO 140066464745280] loss did not improve\u001b[0m\n",
      "\u001b[34m[02/24/2024 16:51:29 INFO 140066464745280] Epoch[11] Batch[0] avg_epoch_loss=10.634473\u001b[0m\n",
      "\u001b[34m[02/24/2024 16:51:29 INFO 140066464745280] #quality_metric: host=algo-1, epoch=11, batch=0 train loss <loss>=10.634472846984863\u001b[0m\n",
      "\u001b[34m[02/24/2024 16:51:30 INFO 140066464745280] Epoch[11] Batch[5] avg_epoch_loss=10.516572\u001b[0m\n",
      "\u001b[34m[02/24/2024 16:51:30 INFO 140066464745280] #quality_metric: host=algo-1, epoch=11, batch=5 train loss <loss>=10.516571521759033\u001b[0m\n",
      "\u001b[34m[02/24/2024 16:51:30 INFO 140066464745280] Epoch[11] Batch [5]#011Speed: 641.63 samples/sec#011loss=10.516572\u001b[0m\n",
      "\u001b[34m[02/24/2024 16:51:31 INFO 140066464745280] Epoch[11] Batch[10] avg_epoch_loss=10.601962\u001b[0m\n",
      "\u001b[34m[02/24/2024 16:51:31 INFO 140066464745280] #quality_metric: host=algo-1, epoch=11, batch=10 train loss <loss>=10.70443115234375\u001b[0m\n",
      "\u001b[34m[02/24/2024 16:51:31 INFO 140066464745280] Epoch[11] Batch [10]#011Speed: 627.29 samples/sec#011loss=10.704431\u001b[0m\n",
      "\u001b[34m[02/24/2024 16:51:31 INFO 140066464745280] processed a total of 1311 examples\u001b[0m\n",
      "\u001b[34m#metrics {\"StartTime\": 1708793489.2452068, \"EndTime\": 1708793491.8240328, \"Dimensions\": {\"Algorithm\": \"AWS/DeepAR\", \"Host\": \"algo-1\", \"Operation\": \"training\"}, \"Metrics\": {\"update.time\": {\"sum\": 2578.003168106079, \"count\": 1, \"min\": 2578.003168106079, \"max\": 2578.003168106079}}}\u001b[0m\n",
      "\u001b[34m[02/24/2024 16:51:31 INFO 140066464745280] #throughput_metric: host=algo-1, train throughput=508.50401218915385 records/second\u001b[0m\n",
      "\u001b[34m[02/24/2024 16:51:31 INFO 140066464745280] #progress_metric: host=algo-1, completed 60.0 % of epochs\u001b[0m\n",
      "\u001b[34m[02/24/2024 16:51:31 INFO 140066464745280] #quality_metric: host=algo-1, epoch=11, train loss <loss>=10.601962262933904\u001b[0m\n",
      "\u001b[34m[02/24/2024 16:51:31 INFO 140066464745280] loss did not improve\u001b[0m\n",
      "\u001b[34m[02/24/2024 16:51:32 INFO 140066464745280] Epoch[12] Batch[0] avg_epoch_loss=10.483050\u001b[0m\n",
      "\u001b[34m[02/24/2024 16:51:32 INFO 140066464745280] #quality_metric: host=algo-1, epoch=12, batch=0 train loss <loss>=10.483050346374512\u001b[0m\n",
      "\u001b[34m[02/24/2024 16:51:33 INFO 140066464745280] Epoch[12] Batch[5] avg_epoch_loss=10.533022\u001b[0m\n",
      "\u001b[34m[02/24/2024 16:51:33 INFO 140066464745280] #quality_metric: host=algo-1, epoch=12, batch=5 train loss <loss>=10.533022403717041\u001b[0m\n",
      "\u001b[34m[02/24/2024 16:51:33 INFO 140066464745280] Epoch[12] Batch [5]#011Speed: 625.82 samples/sec#011loss=10.533022\u001b[0m\n",
      "\u001b[34m[02/24/2024 16:51:34 INFO 140066464745280] processed a total of 1220 examples\u001b[0m\n",
      "\u001b[34m#metrics {\"StartTime\": 1708793491.8241055, \"EndTime\": 1708793494.2321887, \"Dimensions\": {\"Algorithm\": \"AWS/DeepAR\", \"Host\": \"algo-1\", \"Operation\": \"training\"}, \"Metrics\": {\"update.time\": {\"sum\": 2407.477378845215, \"count\": 1, \"min\": 2407.477378845215, \"max\": 2407.477378845215}}}\u001b[0m\n",
      "\u001b[34m[02/24/2024 16:51:34 INFO 140066464745280] #throughput_metric: host=algo-1, train throughput=506.71596263192606 records/second\u001b[0m\n",
      "\u001b[34m[02/24/2024 16:51:34 INFO 140066464745280] #progress_metric: host=algo-1, completed 65.0 % of epochs\u001b[0m\n",
      "\u001b[34m[02/24/2024 16:51:34 INFO 140066464745280] #quality_metric: host=algo-1, epoch=12, train loss <loss>=10.562570667266845\u001b[0m\n",
      "\u001b[34m[02/24/2024 16:51:34 INFO 140066464745280] loss did not improve\u001b[0m\n",
      "\u001b[34m[02/24/2024 16:51:34 INFO 140066464745280] Epoch[13] Batch[0] avg_epoch_loss=10.375987\u001b[0m\n",
      "\u001b[34m[02/24/2024 16:51:34 INFO 140066464745280] #quality_metric: host=algo-1, epoch=13, batch=0 train loss <loss>=10.37598705291748\u001b[0m\n",
      "\u001b[34m[02/24/2024 16:51:35 INFO 140066464745280] Epoch[13] Batch[5] avg_epoch_loss=10.524504\u001b[0m\n",
      "\u001b[34m[02/24/2024 16:51:35 INFO 140066464745280] #quality_metric: host=algo-1, epoch=13, batch=5 train loss <loss>=10.524503707885742\u001b[0m\n",
      "\u001b[34m[02/24/2024 16:51:35 INFO 140066464745280] Epoch[13] Batch [5]#011Speed: 642.81 samples/sec#011loss=10.524504\u001b[0m\n",
      "\u001b[34m[02/24/2024 16:51:36 INFO 140066464745280] Epoch[13] Batch[10] avg_epoch_loss=10.563021\u001b[0m\n",
      "\u001b[34m[02/24/2024 16:51:36 INFO 140066464745280] #quality_metric: host=algo-1, epoch=13, batch=10 train loss <loss>=10.60924072265625\u001b[0m\n",
      "\u001b[34m[02/24/2024 16:51:36 INFO 140066464745280] Epoch[13] Batch [10]#011Speed: 635.43 samples/sec#011loss=10.609241\u001b[0m\n",
      "\u001b[34m[02/24/2024 16:51:36 INFO 140066464745280] processed a total of 1291 examples\u001b[0m\n",
      "\u001b[34m#metrics {\"StartTime\": 1708793494.232314, \"EndTime\": 1708793496.7941263, \"Dimensions\": {\"Algorithm\": \"AWS/DeepAR\", \"Host\": \"algo-1\", \"Operation\": \"training\"}, \"Metrics\": {\"update.time\": {\"sum\": 2560.887098312378, \"count\": 1, \"min\": 2560.887098312378, \"max\": 2560.887098312378}}}\u001b[0m\n",
      "\u001b[34m[02/24/2024 16:51:36 INFO 140066464745280] #throughput_metric: host=algo-1, train throughput=504.0916331449414 records/second\u001b[0m\n",
      "\u001b[34m[02/24/2024 16:51:36 INFO 140066464745280] #progress_metric: host=algo-1, completed 70.0 % of epochs\u001b[0m\n",
      "\u001b[34m[02/24/2024 16:51:36 INFO 140066464745280] #quality_metric: host=algo-1, epoch=13, train loss <loss>=10.563020532781428\u001b[0m\n",
      "\u001b[34m[02/24/2024 16:51:36 INFO 140066464745280] loss did not improve\u001b[0m\n",
      "\u001b[34m[02/24/2024 16:51:37 INFO 140066464745280] Epoch[14] Batch[0] avg_epoch_loss=10.492096\u001b[0m\n",
      "\u001b[34m[02/24/2024 16:51:37 INFO 140066464745280] #quality_metric: host=algo-1, epoch=14, batch=0 train loss <loss>=10.492095947265625\u001b[0m\n",
      "\u001b[34m[02/24/2024 16:51:38 INFO 140066464745280] Epoch[14] Batch[5] avg_epoch_loss=10.592887\u001b[0m\n",
      "\u001b[34m[02/24/2024 16:51:38 INFO 140066464745280] #quality_metric: host=algo-1, epoch=14, batch=5 train loss <loss>=10.59288740158081\u001b[0m\n",
      "\u001b[34m[02/24/2024 16:51:38 INFO 140066464745280] Epoch[14] Batch [5]#011Speed: 633.81 samples/sec#011loss=10.592887\u001b[0m\n",
      "\u001b[34m[02/24/2024 16:51:39 INFO 140066464745280] processed a total of 1276 examples\u001b[0m\n",
      "\u001b[34m#metrics {\"StartTime\": 1708793496.7942052, \"EndTime\": 1708793499.2029238, \"Dimensions\": {\"Algorithm\": \"AWS/DeepAR\", \"Host\": \"algo-1\", \"Operation\": \"training\"}, \"Metrics\": {\"update.time\": {\"sum\": 2408.233642578125, \"count\": 1, \"min\": 2408.233642578125, \"max\": 2408.233642578125}}}\u001b[0m\n",
      "\u001b[34m[02/24/2024 16:51:39 INFO 140066464745280] #throughput_metric: host=algo-1, train throughput=529.8244265037944 records/second\u001b[0m\n",
      "\u001b[34m[02/24/2024 16:51:39 INFO 140066464745280] #progress_metric: host=algo-1, completed 75.0 % of epochs\u001b[0m\n",
      "\u001b[34m[02/24/2024 16:51:39 INFO 140066464745280] #quality_metric: host=algo-1, epoch=14, train loss <loss>=10.560160732269287\u001b[0m\n",
      "\u001b[34m[02/24/2024 16:51:39 INFO 140066464745280] loss did not improve\u001b[0m\n",
      "\u001b[34m[02/24/2024 16:51:39 INFO 140066464745280] Epoch[15] Batch[0] avg_epoch_loss=10.524783\u001b[0m\n",
      "\u001b[34m[02/24/2024 16:51:39 INFO 140066464745280] #quality_metric: host=algo-1, epoch=15, batch=0 train loss <loss>=10.52478313446045\u001b[0m\n",
      "\u001b[34m[02/24/2024 16:51:40 INFO 140066464745280] Epoch[15] Batch[5] avg_epoch_loss=10.512372\u001b[0m\n",
      "\u001b[34m[02/24/2024 16:51:40 INFO 140066464745280] #quality_metric: host=algo-1, epoch=15, batch=5 train loss <loss>=10.51237154006958\u001b[0m\n",
      "\u001b[34m[02/24/2024 16:51:40 INFO 140066464745280] Epoch[15] Batch [5]#011Speed: 641.07 samples/sec#011loss=10.512372\u001b[0m\n",
      "\u001b[34m[02/24/2024 16:51:41 INFO 140066464745280] Epoch[15] Batch[10] avg_epoch_loss=10.487125\u001b[0m\n",
      "\u001b[34m[02/24/2024 16:51:41 INFO 140066464745280] #quality_metric: host=algo-1, epoch=15, batch=10 train loss <loss>=10.456829261779784\u001b[0m\n",
      "\u001b[34m[02/24/2024 16:51:41 INFO 140066464745280] Epoch[15] Batch [10]#011Speed: 637.53 samples/sec#011loss=10.456829\u001b[0m\n",
      "\u001b[34m[02/24/2024 16:51:41 INFO 140066464745280] processed a total of 1302 examples\u001b[0m\n",
      "\u001b[34m#metrics {\"StartTime\": 1708793499.2029963, \"EndTime\": 1708793501.7613509, \"Dimensions\": {\"Algorithm\": \"AWS/DeepAR\", \"Host\": \"algo-1\", \"Operation\": \"training\"}, \"Metrics\": {\"update.time\": {\"sum\": 2557.4679374694824, \"count\": 1, \"min\": 2557.4679374694824, \"max\": 2557.4679374694824}}}\u001b[0m\n",
      "\u001b[34m[02/24/2024 16:51:41 INFO 140066464745280] #throughput_metric: host=algo-1, train throughput=509.0440940130141 records/second\u001b[0m\n",
      "\u001b[34m[02/24/2024 16:51:41 INFO 140066464745280] #progress_metric: host=algo-1, completed 80.0 % of epochs\u001b[0m\n",
      "\u001b[34m[02/24/2024 16:51:41 INFO 140066464745280] #quality_metric: host=algo-1, epoch=15, train loss <loss>=10.487125049937855\u001b[0m\n",
      "\u001b[34m[02/24/2024 16:51:41 INFO 140066464745280] loss did not improve\u001b[0m\n",
      "\u001b[34m[02/24/2024 16:51:42 INFO 140066464745280] Epoch[16] Batch[0] avg_epoch_loss=10.472610\u001b[0m\n",
      "\u001b[34m[02/24/2024 16:51:42 INFO 140066464745280] #quality_metric: host=algo-1, epoch=16, batch=0 train loss <loss>=10.472609519958496\u001b[0m\n",
      "\u001b[34m[02/24/2024 16:51:43 INFO 140066464745280] Epoch[16] Batch[5] avg_epoch_loss=10.527308\u001b[0m\n",
      "\u001b[34m[02/24/2024 16:51:43 INFO 140066464745280] #quality_metric: host=algo-1, epoch=16, batch=5 train loss <loss>=10.527307510375977\u001b[0m\n",
      "\u001b[34m[02/24/2024 16:51:43 INFO 140066464745280] Epoch[16] Batch [5]#011Speed: 627.73 samples/sec#011loss=10.527308\u001b[0m\n",
      "\u001b[34m[02/24/2024 16:51:44 INFO 140066464745280] Epoch[16] Batch[10] avg_epoch_loss=10.525585\u001b[0m\n",
      "\u001b[34m[02/24/2024 16:51:44 INFO 140066464745280] #quality_metric: host=algo-1, epoch=16, batch=10 train loss <loss>=10.523517608642578\u001b[0m\n",
      "\u001b[34m[02/24/2024 16:51:44 INFO 140066464745280] Epoch[16] Batch [10]#011Speed: 637.98 samples/sec#011loss=10.523518\u001b[0m\n",
      "\u001b[34m[02/24/2024 16:51:44 INFO 140066464745280] processed a total of 1288 examples\u001b[0m\n",
      "\u001b[34m#metrics {\"StartTime\": 1708793501.7614565, \"EndTime\": 1708793504.3669279, \"Dimensions\": {\"Algorithm\": \"AWS/DeepAR\", \"Host\": \"algo-1\", \"Operation\": \"training\"}, \"Metrics\": {\"update.time\": {\"sum\": 2604.7449111938477, \"count\": 1, \"min\": 2604.7449111938477, \"max\": 2604.7449111938477}}}\u001b[0m\n",
      "\u001b[34m[02/24/2024 16:51:44 INFO 140066464745280] #throughput_metric: host=algo-1, train throughput=494.46034208725854 records/second\u001b[0m\n",
      "\u001b[34m[02/24/2024 16:51:44 INFO 140066464745280] #progress_metric: host=algo-1, completed 85.0 % of epochs\u001b[0m\n",
      "\u001b[34m[02/24/2024 16:51:44 INFO 140066464745280] #quality_metric: host=algo-1, epoch=16, train loss <loss>=10.525584827769887\u001b[0m\n",
      "\u001b[34m[02/24/2024 16:51:44 INFO 140066464745280] loss did not improve\u001b[0m\n",
      "\u001b[34m[02/24/2024 16:51:44 INFO 140066464745280] Epoch[17] Batch[0] avg_epoch_loss=10.553210\u001b[0m\n",
      "\u001b[34m[02/24/2024 16:51:44 INFO 140066464745280] #quality_metric: host=algo-1, epoch=17, batch=0 train loss <loss>=10.553210258483887\u001b[0m\n",
      "\u001b[34m[02/24/2024 16:51:45 INFO 140066464745280] Epoch[17] Batch[5] avg_epoch_loss=10.534520\u001b[0m\n",
      "\u001b[34m[02/24/2024 16:51:45 INFO 140066464745280] #quality_metric: host=algo-1, epoch=17, batch=5 train loss <loss>=10.53451951344808\u001b[0m\n",
      "\u001b[34m[02/24/2024 16:51:45 INFO 140066464745280] Epoch[17] Batch [5]#011Speed: 640.35 samples/sec#011loss=10.534520\u001b[0m\n",
      "\n",
      "2024-02-24 16:51:57 Uploading - Uploading generated training model\u001b[34m[02/24/2024 16:51:46 INFO 140066464745280] Epoch[17] Batch[10] avg_epoch_loss=10.504444\u001b[0m\n",
      "\u001b[34m[02/24/2024 16:51:46 INFO 140066464745280] #quality_metric: host=algo-1, epoch=17, batch=10 train loss <loss>=10.468353271484375\u001b[0m\n",
      "\u001b[34m[02/24/2024 16:51:46 INFO 140066464745280] Epoch[17] Batch [10]#011Speed: 639.45 samples/sec#011loss=10.468353\u001b[0m\n",
      "\u001b[34m[02/24/2024 16:51:46 INFO 140066464745280] processed a total of 1284 examples\u001b[0m\n",
      "\u001b[34m#metrics {\"StartTime\": 1708793504.3670063, \"EndTime\": 1708793506.9302998, \"Dimensions\": {\"Algorithm\": \"AWS/DeepAR\", \"Host\": \"algo-1\", \"Operation\": \"training\"}, \"Metrics\": {\"update.time\": {\"sum\": 2562.7102851867676, \"count\": 1, \"min\": 2562.7102851867676, \"max\": 2562.7102851867676}}}\u001b[0m\n",
      "\u001b[34m[02/24/2024 16:51:46 INFO 140066464745280] #throughput_metric: host=algo-1, train throughput=501.0078172488531 records/second\u001b[0m\n",
      "\u001b[34m[02/24/2024 16:51:46 INFO 140066464745280] #progress_metric: host=algo-1, completed 90.0 % of epochs\u001b[0m\n",
      "\u001b[34m[02/24/2024 16:51:46 INFO 140066464745280] #quality_metric: host=algo-1, epoch=17, train loss <loss>=10.504443948919123\u001b[0m\n",
      "\u001b[34m[02/24/2024 16:51:46 INFO 140066464745280] loss did not improve\u001b[0m\n",
      "\u001b[34m[02/24/2024 16:51:47 INFO 140066464745280] Epoch[18] Batch[0] avg_epoch_loss=10.548450\u001b[0m\n",
      "\u001b[34m[02/24/2024 16:51:47 INFO 140066464745280] #quality_metric: host=algo-1, epoch=18, batch=0 train loss <loss>=10.548450469970703\u001b[0m\n",
      "\u001b[34m[02/24/2024 16:51:48 INFO 140066464745280] Epoch[18] Batch[5] avg_epoch_loss=10.464223\u001b[0m\n",
      "\u001b[34m[02/24/2024 16:51:48 INFO 140066464745280] #quality_metric: host=algo-1, epoch=18, batch=5 train loss <loss>=10.464223066965738\u001b[0m\n",
      "\u001b[34m[02/24/2024 16:51:48 INFO 140066464745280] Epoch[18] Batch [5]#011Speed: 619.88 samples/sec#011loss=10.464223\u001b[0m\n",
      "\u001b[34m[02/24/2024 16:51:49 INFO 140066464745280] processed a total of 1241 examples\u001b[0m\n",
      "\u001b[34m#metrics {\"StartTime\": 1708793506.930385, \"EndTime\": 1708793509.3508983, \"Dimensions\": {\"Algorithm\": \"AWS/DeepAR\", \"Host\": \"algo-1\", \"Operation\": \"training\"}, \"Metrics\": {\"update.time\": {\"sum\": 2420.0384616851807, \"count\": 1, \"min\": 2420.0384616851807, \"max\": 2420.0384616851807}}}\u001b[0m\n",
      "\u001b[34m[02/24/2024 16:51:49 INFO 140066464745280] #throughput_metric: host=algo-1, train throughput=512.7560503195557 records/second\u001b[0m\n",
      "\u001b[34m[02/24/2024 16:51:49 INFO 140066464745280] #progress_metric: host=algo-1, completed 95.0 % of epochs\u001b[0m\n",
      "\u001b[34m[02/24/2024 16:51:49 INFO 140066464745280] #quality_metric: host=algo-1, epoch=18, train loss <loss>=10.484716129302978\u001b[0m\n",
      "\u001b[34m[02/24/2024 16:51:49 INFO 140066464745280] loss did not improve\u001b[0m\n",
      "\u001b[34m[02/24/2024 16:51:49 INFO 140066464745280] Epoch[19] Batch[0] avg_epoch_loss=10.121006\u001b[0m\n",
      "\u001b[34m[02/24/2024 16:51:49 INFO 140066464745280] #quality_metric: host=algo-1, epoch=19, batch=0 train loss <loss>=10.12100601196289\u001b[0m\n",
      "\u001b[34m[02/24/2024 16:51:50 INFO 140066464745280] Epoch[19] Batch[5] avg_epoch_loss=10.359041\u001b[0m\n",
      "\u001b[34m[02/24/2024 16:51:50 INFO 140066464745280] #quality_metric: host=algo-1, epoch=19, batch=5 train loss <loss>=10.359040896097818\u001b[0m\n",
      "\u001b[34m[02/24/2024 16:51:50 INFO 140066464745280] Epoch[19] Batch [5]#011Speed: 635.56 samples/sec#011loss=10.359041\u001b[0m\n",
      "\u001b[34m[02/24/2024 16:51:51 INFO 140066464745280] Epoch[19] Batch[10] avg_epoch_loss=10.379372\u001b[0m\n",
      "\u001b[34m[02/24/2024 16:51:51 INFO 140066464745280] #quality_metric: host=algo-1, epoch=19, batch=10 train loss <loss>=10.403770256042481\u001b[0m\n",
      "\u001b[34m[02/24/2024 16:51:51 INFO 140066464745280] Epoch[19] Batch [10]#011Speed: 640.54 samples/sec#011loss=10.403770\u001b[0m\n",
      "\u001b[34m[02/24/2024 16:51:51 INFO 140066464745280] processed a total of 1290 examples\u001b[0m\n",
      "\u001b[34m#metrics {\"StartTime\": 1708793509.3510532, \"EndTime\": 1708793511.9222076, \"Dimensions\": {\"Algorithm\": \"AWS/DeepAR\", \"Host\": \"algo-1\", \"Operation\": \"training\"}, \"Metrics\": {\"update.time\": {\"sum\": 2570.4550743103027, \"count\": 1, \"min\": 2570.4550743103027, \"max\": 2570.4550743103027}}}\u001b[0m\n",
      "\u001b[34m[02/24/2024 16:51:51 INFO 140066464745280] #throughput_metric: host=algo-1, train throughput=501.8262660566209 records/second\u001b[0m\n",
      "\u001b[34m[02/24/2024 16:51:51 INFO 140066464745280] #progress_metric: host=algo-1, completed 100.0 % of epochs\u001b[0m\n",
      "\u001b[34m[02/24/2024 16:51:51 INFO 140066464745280] #quality_metric: host=algo-1, epoch=19, train loss <loss>=10.379372423345393\u001b[0m\n",
      "\u001b[34m[02/24/2024 16:51:51 INFO 140066464745280] loss did not improve\u001b[0m\n",
      "\u001b[34m[02/24/2024 16:51:51 INFO 140066464745280] Loading parameters from best epoch (9)\u001b[0m\n",
      "\u001b[34m#metrics {\"StartTime\": 1708793511.922279, \"EndTime\": 1708793511.9296625, \"Dimensions\": {\"Algorithm\": \"AWS/DeepAR\", \"Host\": \"algo-1\", \"Operation\": \"training\"}, \"Metrics\": {\"state.deserialize.time\": {\"sum\": 6.613492965698242, \"count\": 1, \"min\": 6.613492965698242, \"max\": 6.613492965698242}}}\u001b[0m\n",
      "\u001b[34m[02/24/2024 16:51:51 INFO 140066464745280] stopping training now\u001b[0m\n",
      "\u001b[34m[02/24/2024 16:51:51 INFO 140066464745280] #progress_metric: host=algo-1, completed 100 % of epochs\u001b[0m\n",
      "\u001b[34m[02/24/2024 16:51:51 INFO 140066464745280] Final loss: 10.371799208901145 (occurred at epoch 9)\u001b[0m\n",
      "\u001b[34m[02/24/2024 16:51:51 INFO 140066464745280] #quality_metric: host=algo-1, train final_loss <loss>=10.371799208901145\u001b[0m\n",
      "\u001b[34m[02/24/2024 16:51:51 INFO 140066464745280] Worker algo-1 finished training.\u001b[0m\n",
      "\u001b[34m[02/24/2024 16:51:51 WARNING 140066464745280] wait_for_all_workers will not sync workers since the kv store is not running distributed\u001b[0m\n",
      "\u001b[34m[02/24/2024 16:51:51 INFO 140066464745280] All workers finished. Serializing model for prediction.\u001b[0m\n",
      "\u001b[34m#metrics {\"StartTime\": 1708793511.929733, \"EndTime\": 1708793512.0376608, \"Dimensions\": {\"Algorithm\": \"AWS/DeepAR\", \"Host\": \"algo-1\", \"Operation\": \"training\"}, \"Metrics\": {\"get_graph.time\": {\"sum\": 106.82153701782227, \"count\": 1, \"min\": 106.82153701782227, \"max\": 106.82153701782227}}}\u001b[0m\n",
      "\u001b[34m[02/24/2024 16:51:52 INFO 140066464745280] Number of GPUs being used: 0\u001b[0m\n",
      "\u001b[34m#metrics {\"StartTime\": 1708793512.037778, \"EndTime\": 1708793512.078305, \"Dimensions\": {\"Algorithm\": \"AWS/DeepAR\", \"Host\": \"algo-1\", \"Operation\": \"training\"}, \"Metrics\": {\"finalize.time\": {\"sum\": 147.54033088684082, \"count\": 1, \"min\": 147.54033088684082, \"max\": 147.54033088684082}}}\u001b[0m\n",
      "\u001b[34m[02/24/2024 16:51:52 INFO 140066464745280] Serializing to /opt/ml/model/model_algo-1\u001b[0m\n",
      "\u001b[34m[02/24/2024 16:51:52 INFO 140066464745280] Saved checkpoint to \"/opt/ml/model/model_algo-1-0000.params\"\u001b[0m\n",
      "\u001b[34m#metrics {\"StartTime\": 1708793512.0785713, \"EndTime\": 1708793512.0851598, \"Dimensions\": {\"Algorithm\": \"AWS/DeepAR\", \"Host\": \"algo-1\", \"Operation\": \"training\"}, \"Metrics\": {\"model.serialize.time\": {\"sum\": 6.51240348815918, \"count\": 1, \"min\": 6.51240348815918, \"max\": 6.51240348815918}}}\u001b[0m\n",
      "\u001b[34m[02/24/2024 16:51:52 INFO 140066464745280] Successfully serialized the model for prediction.\u001b[0m\n",
      "\u001b[34m[02/24/2024 16:51:52 INFO 140066464745280] #memory_usage::<batchbuffer> = 15.673828125 mb\u001b[0m\n",
      "\u001b[34m[02/24/2024 16:51:52 INFO 140066464745280] Evaluating model accuracy on testset using 100 samples\u001b[0m\n",
      "\u001b[34m#metrics {\"StartTime\": 1708793512.0852087, \"EndTime\": 1708793512.090827, \"Dimensions\": {\"Algorithm\": \"AWS/DeepAR\", \"Host\": \"algo-1\", \"Operation\": \"training\"}, \"Metrics\": {\"model.bind.time\": {\"sum\": 0.03743171691894531, \"count\": 1, \"min\": 0.03743171691894531, \"max\": 0.03743171691894531}}}\u001b[0m\n",
      "\u001b[34m#metrics {\"StartTime\": 1708793512.0908873, \"EndTime\": 1708793512.7184243, \"Dimensions\": {\"Algorithm\": \"AWS/DeepAR\", \"Host\": \"algo-1\", \"Operation\": \"training\"}, \"Metrics\": {\"model.score.time\": {\"sum\": 627.6838779449463, \"count\": 1, \"min\": 627.6838779449463, \"max\": 627.6838779449463}}}\u001b[0m\n",
      "\u001b[34m[02/24/2024 16:51:52 INFO 140066464745280] #test_score (algo-1, RMSE): 59655.30795207701\u001b[0m\n",
      "\u001b[34m[02/24/2024 16:51:52 INFO 140066464745280] #test_score (algo-1, mean_absolute_QuantileLoss): 230895.11245659724\u001b[0m\n",
      "\u001b[34m[02/24/2024 16:51:52 INFO 140066464745280] #test_score (algo-1, mean_wQuantileLoss): 0.39360692697496763\u001b[0m\n",
      "\u001b[34m[02/24/2024 16:51:52 INFO 140066464745280] #test_score (algo-1, wQuantileLoss[0.1]): 0.1471753391953709\u001b[0m\n",
      "\u001b[34m[02/24/2024 16:51:52 INFO 140066464745280] #test_score (algo-1, wQuantileLoss[0.2]): 0.2614742859304174\u001b[0m\n",
      "\u001b[34m[02/24/2024 16:51:52 INFO 140066464745280] #test_score (algo-1, wQuantileLoss[0.3]): 0.3465375183188673\u001b[0m\n",
      "\u001b[34m[02/24/2024 16:51:52 INFO 140066464745280] #test_score (algo-1, wQuantileLoss[0.4]): 0.4066727076977332\u001b[0m\n",
      "\u001b[34m[02/24/2024 16:51:52 INFO 140066464745280] #test_score (algo-1, wQuantileLoss[0.5]): 0.4558362473051088\u001b[0m\n",
      "\u001b[34m[02/24/2024 16:51:52 INFO 140066464745280] #test_score (algo-1, wQuantileLoss[0.6]): 0.49894010269752814\u001b[0m\n",
      "\u001b[34m[02/24/2024 16:51:52 INFO 140066464745280] #test_score (algo-1, wQuantileLoss[0.7]): 0.5075047545151913\u001b[0m\n",
      "\u001b[34m[02/24/2024 16:51:52 INFO 140066464745280] #test_score (algo-1, wQuantileLoss[0.8]): 0.5104056946573101\u001b[0m\n",
      "\u001b[34m[02/24/2024 16:51:52 INFO 140066464745280] #test_score (algo-1, wQuantileLoss[0.9]): 0.4079156924571814\u001b[0m\n",
      "\u001b[34m[02/24/2024 16:51:52 INFO 140066464745280] #quality_metric: host=algo-1, test RMSE <loss>=59655.30795207701\u001b[0m\n",
      "\u001b[34m[02/24/2024 16:51:52 INFO 140066464745280] #quality_metric: host=algo-1, test mean_wQuantileLoss <loss>=0.39360692697496763\u001b[0m\n",
      "\u001b[34m#metrics {\"StartTime\": 1708793512.7184994, \"EndTime\": 1708793512.739042, \"Dimensions\": {\"Algorithm\": \"AWS/DeepAR\", \"Host\": \"algo-1\", \"Operation\": \"training\"}, \"Metrics\": {\"setuptime\": {\"sum\": 4.641532897949219, \"count\": 1, \"min\": 4.641532897949219, \"max\": 4.641532897949219}, \"totaltime\": {\"sum\": 54386.41715049744, \"count\": 1, \"min\": 54386.41715049744, \"max\": 54386.41715049744}}}\u001b[0m\n",
      "\n",
      "2024-02-24 16:52:13 Completed - Training job completed\n",
      "Training seconds: 292\n",
      "Billable seconds: 292\n"
     ]
    }
   ],
   "source": [
    "# Define data channels for training the DeepAR estimator, mapping 'train' and 'test' keys to the S3 URIs of the training and test data\n",
    "data_channels = {\n",
    "    'train': train_uri,\n",
    "    'test': test_uri\n",
    "}\n",
    "\n",
    "# Fit the DeepAR estimator using the specified data channels\n",
    "deepar_estimator.fit(inputs=data_channels)"
   ]
  },
  {
   "cell_type": "markdown",
   "id": "cc724892-18a9-4e18-8af1-98933fa7bb38",
   "metadata": {},
   "source": [
    "# Model Deployment to SageMaker Endpoint"
   ]
  },
  {
   "cell_type": "code",
   "execution_count": 20,
   "id": "24ace7d0-b58b-41cf-a5ab-9602a2494726",
   "metadata": {
    "tags": []
   },
   "outputs": [],
   "source": [
    "# Specify the endpoint name\n",
    "endpoint_name = 'online-retail-endpoint-basic'\n",
    "\n",
    "# Specify the endpoint configuration name\n",
    "endpoint_config_name = 'online-retail-endpoint-basic'\n",
    "\n",
    "# Create a SageMaker client\n",
    "sagemaker_client = boto3.client('sagemaker')"
   ]
  },
  {
   "cell_type": "code",
   "execution_count": 21,
   "id": "b55df486-a814-46d4-9c0d-1593a196af89",
   "metadata": {
    "tags": []
   },
   "outputs": [
    {
     "name": "stdout",
     "output_type": "stream",
     "text": [
      "Endpoint configuration \"online-retail-endpoint-basic\" does not exist.\n"
     ]
    }
   ],
   "source": [
    "# Check if the endpoint configuration already exists\n",
    "try:\n",
    "    sagemaker_client.describe_endpoint_config(EndpointConfigName=endpoint_config_name)\n",
    "    print(f'Endpoint configuration \"{endpoint_config_name}\" already exists. Deleting...')\n",
    "    sagemaker_client.delete_endpoint_config(EndpointConfigName=endpoint_config_name)\n",
    "    print(f'Endpoint configuration \"{endpoint_config_name}\" deleted.')\n",
    "except ClientError as e:\n",
    "    if e.response['Error']['Code'] == 'ValidationException':\n",
    "        print(f'Endpoint configuration \"{endpoint_config_name}\" does not exist.')"
   ]
  },
  {
   "cell_type": "code",
   "execution_count": 22,
   "id": "b52c4eb5-7b98-4ab2-90d3-3c27f0c26a98",
   "metadata": {
    "tags": []
   },
   "outputs": [
    {
     "name": "stdout",
     "output_type": "stream",
     "text": [
      "Endpoint \"online-retail-endpoint-basic\" does not exist.\n"
     ]
    }
   ],
   "source": [
    "# Check if the endpoint already exists\n",
    "try:\n",
    "    sagemaker_client.describe_endpoint(EndpointName=endpoint_name)\n",
    "    print(f'Endpoint \"{endpoint_name}\" already exists. Deleting...')\n",
    "    sagemaker_client.delete_endpoint(EndpointName=endpoint_name)\n",
    "    print(f'Endpoint \"{endpoint_name}\" deleted.')\n",
    "except ClientError as e:\n",
    "    if e.response['Error']['Code'] == 'ValidationException':\n",
    "        print(f'Endpoint \"{endpoint_name}\" does not exist.')\n",
    "    else:\n",
    "        raise"
   ]
  },
  {
   "cell_type": "code",
   "execution_count": 23,
   "id": "713b5f23-1cc8-459d-b565-eeb25dd362c3",
   "metadata": {
    "tags": []
   },
   "outputs": [
    {
     "name": "stderr",
     "output_type": "stream",
     "text": [
      "INFO:sagemaker:Creating model with name: onlineretail-deepar-forecasting-2024-02-24-16-56-04-939\n",
      "INFO:sagemaker:Creating endpoint-config with name online-retail-endpoint-basic\n",
      "INFO:sagemaker:Creating endpoint with name online-retail-endpoint-basic\n"
     ]
    },
    {
     "name": "stdout",
     "output_type": "stream",
     "text": [
      "-------!Endpoint name: online-retail-endpoint-basic\n",
      "Endpoint configuration name: online-retail-endpoint-basic\n"
     ]
    }
   ],
   "source": [
    "# Deploy the trained model to an endpoint\n",
    "predictor = deepar_estimator.deploy(\n",
    "    initial_instance_count=1,  # Specify the initial number of instances for the endpoint\n",
    "    instance_type='ml.m5.large',  # Specify the instance type for the endpoint\n",
    "    serializer=sagemaker.serializers.JSONSerializer(),  # Specify the serializer for the input data\n",
    "    deserializer=sagemaker.deserializers.JSONDeserializer(),  # Specify the deserializer for the output data\n",
    "    endpoint_name=endpoint_name,  # Specify the name of the endpoint\n",
    ")\n",
    "\n",
    "# Print the endpoint name and endpoint configuration name\n",
    "print(f'Endpoint name: {predictor.endpoint_name}')\n",
    "print(f'Endpoint configuration name: {endpoint_config_name}')"
   ]
  },
  {
   "cell_type": "markdown",
   "id": "b1913bda-4b3b-4fe0-aff9-1767d31eb4aa",
   "metadata": {},
   "source": [
    "# Preparing Prediction Input for DeepAR Model"
   ]
  },
  {
   "cell_type": "code",
   "execution_count": null,
   "id": "e7d357c1-3dfb-442f-87ae-63203710d7b2",
   "metadata": {
    "tags": []
   },
   "outputs": [],
   "source": [
    "# Define the endpoint name\n",
    "endpoint_name = 'online-retail-endpoint-basic'\n",
    "\n",
    "# Set the prediction length and start date\n",
    "prediction_length = 7\n",
    "prediction_start_date = pd.Timestamp('2011-12-03')\n",
    "\n",
    "# Prepare the prediction input without categorical or dynamic features\n",
    "prediction_input = {\n",
    "    \"instances\": [{\n",
    "        \"start\": str(daily_sales['InvoiceDate'].min()),\n",
    "        \"target\": daily_sales['Sales'].tolist() + [0] * prediction_length\n",
    "    }],\n",
    "    \"configuration\": {\"num_samples\": 100, \"output_types\": [\"mean\", \"quantiles\"], \"quantiles\": [\"0.1\", \"0.9\"]}\n",
    "}\n",
    "\n",
    "# Invoke the endpoint for prediction\n",
    "sagemaker_runtime = boto3.client('sagemaker-runtime')\n",
    "response = sagemaker_runtime.invoke_endpoint(\n",
    "    EndpointName=endpoint_name,\n",
    "    ContentType='application/json',\n",
    "    Body=json.dumps(prediction_input)\n",
    ")\n",
    "\n",
    "# Parse the prediction response\n",
    "predictions = json.loads(response['Body'].read().decode())\n",
    "predicted_means = predictions['predictions'][0]['mean']\n",
    "predicted_quantiles = predictions['predictions'][0]['quantiles']\n",
    "predicted_lower_quantile = predicted_quantiles['0.1']\n",
    "predicted_upper_quantile = predicted_quantiles['0.9']\n",
    "\n",
    "# Create a DataFrame for the predicted sales\n",
    "predicted_dates = pd.date_range(start=prediction_start_date, periods=prediction_length, freq='D')\n",
    "predicted_sales = pd.DataFrame({\n",
    "    'Date': predicted_dates,\n",
    "    'Predicted Sales': predicted_means,\n",
    "    'Lower Quantile': predicted_lower_quantile,\n",
    "    'Upper Quantile': predicted_upper_quantile\n",
    "})\n",
    "\n",
    "# Display the predicted sales\n",
    "print(predicted_sales)"
   ]
  },
  {
   "cell_type": "code",
   "execution_count": null,
   "id": "7158c1c8-1ed7-4642-9156-944897826a35",
   "metadata": {
    "tags": []
   },
   "outputs": [],
   "source": [
    "# Convert 'InvoiceDate' to datetime type\n",
    "daily_sales['InvoiceDate'] = pd.to_datetime(daily_sales['InvoiceDate'])\n",
    "\n",
    "# Filter the historical data to include only the last 30 days\n",
    "last_30_days_sales = daily_sales[daily_sales['InvoiceDate'] >= (daily_sales['InvoiceDate'].max() - pd.Timedelta(days=30))]\n",
    "\n",
    "# Plot the daily sales for the last 30 days\n",
    "plt.figure(figsize=(16, 6))\n",
    "plt.plot(last_30_days_sales['InvoiceDate'], last_30_days_sales['Sales'], marker='o', linestyle='-', label='Historical Sales')\n",
    "\n",
    "# Plot the predicted mean sales\n",
    "plt.plot(predicted_dates, predicted_means, label='Predicted Mean Sales')\n",
    "\n",
    "# Plot the predicted quantiles as a shaded area\n",
    "plt.fill_between(predicted_dates, predicted_lower_quantile, predicted_upper_quantile, color='gray', alpha=0.5, label='Predicted 80% Confidence Interval')\n",
    "\n",
    "# Add labels and title\n",
    "plt.title('Daily Sales with Prediction for the Next 7 Days')\n",
    "plt.xlabel('Date')\n",
    "plt.ylabel('Sales')\n",
    "plt.xticks(rotation=45)\n",
    "plt.legend()\n",
    "plt.grid(True)\n",
    "\n",
    "# Show the plot\n",
    "plt.show()\n"
   ]
  },
  {
   "cell_type": "markdown",
   "id": "09c24c7b-73b0-4486-b407-a9df0e2f714d",
   "metadata": {},
   "source": [
    "# Delete the Endpoint and Endpoint Config"
   ]
  },
  {
   "cell_type": "code",
   "execution_count": null,
   "id": "bd228078-f732-4447-bb8d-1abe1fe4c650",
   "metadata": {
    "tags": []
   },
   "outputs": [],
   "source": [
    "# Prompt for confirmation before deleting the endpoint and endpoint configuration\n",
    "confirmation = input(\"Are you sure you want to delete the endpoint and endpoint configuration? (yes/no): \")\n",
    "\n",
    "if confirmation.lower() == 'yes':\n",
    "    # Check if the endpoint configuration already exists\n",
    "    try:\n",
    "        sagemaker_client.describe_endpoint_config(EndpointConfigName=endpoint_config_name)\n",
    "        print(f'Endpoint configuration \"{endpoint_config_name}\" already exists. Deleting...')\n",
    "        sagemaker_client.delete_endpoint_config(EndpointConfigName=endpoint_config_name)\n",
    "        print(f'Endpoint configuration \"{endpoint_config_name}\" deleted.')\n",
    "    except ClientError as e:\n",
    "        if e.response['Error']['Code'] == 'ValidationException':\n",
    "            print(f'Endpoint configuration \"{endpoint_config_name}\" does not exist.')\n",
    "        else:\n",
    "            raise\n",
    "\n",
    "    # Check if the endpoint already exists\n",
    "    try:\n",
    "        sagemaker_client.describe_endpoint(EndpointName=endpoint_name)\n",
    "        print(f'Endpoint \"{endpoint_name}\" already exists. Deleting...')\n",
    "        sagemaker_client.delete_endpoint(EndpointName=endpoint_name)\n",
    "        print(f'Endpoint \"{endpoint_name}\" deleted.')\n",
    "    except ClientError as e:\n",
    "        if e.response['Error']['Code'] == 'ValidationException':\n",
    "            print(f'Endpoint \"{endpoint_name}\" does not exist.')\n",
    "        else:\n",
    "            raise\n",
    "else:\n",
    "    print(\"Deletion cancelled.\")\n"
   ]
  }
 ],
 "metadata": {
  "kernelspec": {
   "display_name": "conda_python3",
   "language": "python",
   "name": "conda_python3"
  },
  "language_info": {
   "codemirror_mode": {
    "name": "ipython",
    "version": 3
   },
   "file_extension": ".py",
   "mimetype": "text/x-python",
   "name": "python",
   "nbconvert_exporter": "python",
   "pygments_lexer": "ipython3",
   "version": "3.10.13"
  }
 },
 "nbformat": 4,
 "nbformat_minor": 5
}
